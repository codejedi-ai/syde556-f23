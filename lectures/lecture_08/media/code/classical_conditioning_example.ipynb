{
 "cells": [
  {
   "cell_type": "code",
   "execution_count": 1,
   "metadata": {},
   "outputs": [],
   "source": [
    "import nengo\n",
    "import numpy as np\n",
    "import matplotlib.pyplot as plt"
   ]
  },
  {
   "cell_type": "code",
   "execution_count": 72,
   "metadata": {},
   "outputs": [],
   "source": [
    "def run_conditioning_network(η = 0.5e-4, T = 10.0):\n",
    "\n",
    "    with nengo.Network() as model:\n",
    "        nd_stim_us = nengo.Node(lambda t:\n",
    "            (1.0 if 0.6 < (t % 1.0) < 1.0 else 0.0) *\n",
    "            (1.0 if t < 5.0 else 0.0) *\n",
    "            (1.0 if t > 1.0 else 0.0)\n",
    "        )\n",
    "        nd_stim_cs = nengo.Node(lambda t:\n",
    "            (1.0 if 0.6 < (t % 1.0) < 1.0 else 0.0)\n",
    "        )\n",
    "\n",
    "        # Inputs\n",
    "        ens_us = nengo.Ensemble(n_neurons=100, dimensions=1)\n",
    "        ens_cs = nengo.Ensemble(n_neurons=100, dimensions=1)\n",
    "        nengo.Connection(nd_stim_us, ens_us)\n",
    "        nengo.Connection(nd_stim_cs, ens_cs)\n",
    "\n",
    "        # Unconditioned response\n",
    "        ens_ur = nengo.Ensemble(n_neurons=100, dimensions=1)\n",
    "        nengo.Connection(ens_us, ens_ur)\n",
    "\n",
    "        # Conditioned response\n",
    "        ens_cr = nengo.Ensemble(n_neurons=100, dimensions=1)\n",
    "        con = nengo.Connection(\n",
    "            ens_cs,\n",
    "            ens_cr,\n",
    "            learning_rule_type=nengo.PES(η),\n",
    "            transform=np.zeros((1, 1)))\n",
    "\n",
    "        # Learning\n",
    "        ens_err = nengo.Ensemble(n_neurons=100, dimensions=1)\n",
    "        nengo.Connection(ens_cr, ens_err, transform=1)\n",
    "        nengo.Connection(ens_ur, ens_err, transform=-1)\n",
    "        nengo.Connection(ens_err, con.learning_rule)\n",
    "\n",
    "        # Total response\n",
    "        ens_response = nengo.Ensemble(n_neurons=100, dimensions=1)\n",
    "        nengo.Connection(ens_cr, ens_response)\n",
    "        nengo.Connection(ens_ur, ens_response)\n",
    "\n",
    "        # Recorders\n",
    "        p_us = nengo.Probe(ens_us, synapse=20e-3)\n",
    "        p_cs = nengo.Probe(ens_cs, synapse=20e-3)\n",
    "        p_ur = nengo.Probe(ens_ur, synapse=20e-3)\n",
    "        p_cr = nengo.Probe(ens_cr, synapse=20e-3)\n",
    "        p_res = nengo.Probe(ens_response, synapse=20e-3)\n",
    "\n",
    "    with nengo.Simulator(model) as sim:\n",
    "        sim.run(T)\n",
    "        ts = sim.trange()\n",
    "\n",
    "    return ts, sim.data[p_us], sim.data[p_cs], sim.data[p_ur], sim.data[p_cr], sim.data[p_res]"
   ]
  },
  {
   "cell_type": "code",
   "execution_count": 73,
   "metadata": {},
   "outputs": [
    {
     "data": {
      "application/vdom.v1+json": {
       "attributes": {},
       "tagName": "div"
      },
      "text/html": [
       "\n",
       "                <script>\n",
       "                    if (Jupyter.version.split(\".\")[0] < 5) {\n",
       "                        var pb = document.getElementById(\"95da1be4-0393-4f84-bd0a-38ecba92b16b\");\n",
       "                        var text = document.createTextNode(\n",
       "                            \"HMTL progress bar requires Jupyter Notebook >= \" +\n",
       "                            \"5.0 or Jupyter Lab. Alternatively, you can use \" +\n",
       "                            \"TerminalProgressBar().\");\n",
       "                        pb.parentNode.insertBefore(text, pb);\n",
       "                    }\n",
       "                </script>\n",
       "                <div id=\"95da1be4-0393-4f84-bd0a-38ecba92b16b\" style=\"\n",
       "                    width: 100%;\n",
       "                    border: 1px solid #cfcfcf;\n",
       "                    border-radius: 4px;\n",
       "                    text-align: center;\n",
       "                    position: relative;\">\n",
       "                  <div class=\"pb-text\" style=\"\n",
       "                      position: absolute;\n",
       "                      width: 100%;\">\n",
       "                    0%\n",
       "                  </div>\n",
       "                  <div class=\"pb-fill\" style=\"\n",
       "                      background-color: #bdd2e6;\n",
       "                      width: 0%;\">\n",
       "                    <style type=\"text/css\" scoped=\"scoped\">\n",
       "                        @keyframes pb-fill-anim {\n",
       "                            0% { background-position: 0 0; }\n",
       "                            100% { background-position: 100px 0; }\n",
       "                        }\n",
       "                    </style>\n",
       "                    &nbsp;\n",
       "                  </div>\n",
       "                </div>"
      ],
      "text/plain": [
       "HtmlProgressBar cannot be displayed. Please use the TerminalProgressBar. It can be enabled with `nengo.rc.set('progress', 'progress_bar', 'nengo.utils.progress.TerminalProgressBar')`."
      ]
     },
     "metadata": {},
     "output_type": "display_data"
    },
    {
     "data": {
      "application/vdom.v1+json": {
       "attributes": {
        "id": "0cdcfe97-1a4b-48fc-936f-d0f5432d15ce",
        "style": {
         "border": "1px solid #cfcfcf",
         "borderRadius": "4px",
         "boxSizing": "border-box",
         "position": "relative",
         "textAlign": "center",
         "width": "100%"
        }
       },
       "children": [
        {
         "attributes": {
          "class": "pb-text",
          "style": {
           "position": "absolute",
           "width": "100%"
          }
         },
         "children": [
          "Build finished in 0:00:01."
         ],
         "tagName": "div"
        },
        {
         "attributes": {
          "class": "pb-fill",
          "style": {
           "animation": "none",
           "backgroundColor": "#bdd2e6",
           "backgroundImage": "none",
           "backgroundSize": "100px 100%",
           "width": "100%"
          }
         },
         "children": [
          {
           "attributes": {
            "scoped": "scoped",
            "type": "text/css"
           },
           "children": [
            "\n                        @keyframes pb-fill-anim {\n                            0% { background-position: 0 0; }\n                            100% { background-position: 100px 0; }\n                        }}"
           ],
           "tagName": "style"
          },
          " "
         ],
         "tagName": "div"
        }
       ],
       "tagName": "div"
      },
      "text/html": [
       "<script>\n",
       "              (function () {\n",
       "                  var root = document.getElementById('95da1be4-0393-4f84-bd0a-38ecba92b16b');\n",
       "                  var text = root.getElementsByClassName('pb-text')[0];\n",
       "                  var fill = root.getElementsByClassName('pb-fill')[0];\n",
       "\n",
       "                  text.innerHTML = 'Build finished in 0:00:01.';\n",
       "                  \n",
       "            fill.style.width = '100%';\n",
       "            fill.style.animation = 'pb-fill-anim 2s linear infinite';\n",
       "            fill.style.backgroundSize = '100px 100%';\n",
       "            fill.style.backgroundImage = 'repeating-linear-gradient(' +\n",
       "                '90deg, #bdd2e6, #edf2f8 40%, #bdd2e6 80%, #bdd2e6)';\n",
       "        \n",
       "                  \n",
       "                fill.style.animation = 'none';\n",
       "                fill.style.backgroundImage = 'none';\n",
       "            \n",
       "              })();\n",
       "        </script>"
      ]
     },
     "metadata": {},
     "output_type": "display_data"
    },
    {
     "data": {
      "application/vdom.v1+json": {
       "attributes": {},
       "tagName": "div"
      },
      "text/html": [
       "\n",
       "                <script>\n",
       "                    if (Jupyter.version.split(\".\")[0] < 5) {\n",
       "                        var pb = document.getElementById(\"7ddd7ee5-d853-4c3f-8064-8d3a6778a2be\");\n",
       "                        var text = document.createTextNode(\n",
       "                            \"HMTL progress bar requires Jupyter Notebook >= \" +\n",
       "                            \"5.0 or Jupyter Lab. Alternatively, you can use \" +\n",
       "                            \"TerminalProgressBar().\");\n",
       "                        pb.parentNode.insertBefore(text, pb);\n",
       "                    }\n",
       "                </script>\n",
       "                <div id=\"7ddd7ee5-d853-4c3f-8064-8d3a6778a2be\" style=\"\n",
       "                    width: 100%;\n",
       "                    border: 1px solid #cfcfcf;\n",
       "                    border-radius: 4px;\n",
       "                    text-align: center;\n",
       "                    position: relative;\">\n",
       "                  <div class=\"pb-text\" style=\"\n",
       "                      position: absolute;\n",
       "                      width: 100%;\">\n",
       "                    0%\n",
       "                  </div>\n",
       "                  <div class=\"pb-fill\" style=\"\n",
       "                      background-color: #bdd2e6;\n",
       "                      width: 0%;\">\n",
       "                    <style type=\"text/css\" scoped=\"scoped\">\n",
       "                        @keyframes pb-fill-anim {\n",
       "                            0% { background-position: 0 0; }\n",
       "                            100% { background-position: 100px 0; }\n",
       "                        }\n",
       "                    </style>\n",
       "                    &nbsp;\n",
       "                  </div>\n",
       "                </div>"
      ],
      "text/plain": [
       "HtmlProgressBar cannot be displayed. Please use the TerminalProgressBar. It can be enabled with `nengo.rc.set('progress', 'progress_bar', 'nengo.utils.progress.TerminalProgressBar')`."
      ]
     },
     "metadata": {},
     "output_type": "display_data"
    },
    {
     "data": {
      "application/vdom.v1+json": {
       "attributes": {
        "id": "38ef6c03-a7e8-4e72-9b47-5d0e80507896",
        "style": {
         "border": "1px solid #cfcfcf",
         "borderRadius": "4px",
         "boxSizing": "border-box",
         "position": "relative",
         "textAlign": "center",
         "width": "100%"
        }
       },
       "children": [
        {
         "attributes": {
          "class": "pb-text",
          "style": {
           "position": "absolute",
           "width": "100%"
          }
         },
         "children": [
          "Simulation finished in 0:00:15."
         ],
         "tagName": "div"
        },
        {
         "attributes": {
          "class": "pb-fill",
          "style": {
           "animation": "none",
           "backgroundColor": "#bdd2e6",
           "backgroundImage": "none",
           "transition": "width 0.1s linear",
           "width": "100%"
          }
         },
         "children": [
          {
           "attributes": {
            "scoped": "scoped",
            "type": "text/css"
           },
           "children": [
            "\n                        @keyframes pb-fill-anim {\n                            0% { background-position: 0 0; }\n                            100% { background-position: 100px 0; }\n                        }}"
           ],
           "tagName": "style"
          },
          " "
         ],
         "tagName": "div"
        }
       ],
       "tagName": "div"
      },
      "text/html": [
       "<script>\n",
       "              (function () {\n",
       "                  var root = document.getElementById('7ddd7ee5-d853-4c3f-8064-8d3a6778a2be');\n",
       "                  var text = root.getElementsByClassName('pb-text')[0];\n",
       "                  var fill = root.getElementsByClassName('pb-fill')[0];\n",
       "\n",
       "                  text.innerHTML = 'Simulation finished in 0:00:15.';\n",
       "                  \n",
       "            if (100.0 > 0.) {\n",
       "                fill.style.transition = 'width 0.1s linear';\n",
       "            } else {\n",
       "                fill.style.transition = 'none';\n",
       "            }\n",
       "\n",
       "            fill.style.width = '100.0%';\n",
       "            fill.style.animation = 'none';\n",
       "            fill.style.backgroundImage = 'none'\n",
       "        \n",
       "                  \n",
       "                fill.style.animation = 'none';\n",
       "                fill.style.backgroundImage = 'none';\n",
       "            \n",
       "              })();\n",
       "        </script>"
      ]
     },
     "metadata": {},
     "output_type": "display_data"
    }
   ],
   "source": [
    "data = run_conditioning_network()"
   ]
  },
  {
   "cell_type": "code",
   "execution_count": 86,
   "metadata": {},
   "outputs": [],
   "source": [
    "def plot_conditioning_network(ts, uss, css, urs, crs, res):\n",
    "    fig, axs = plt.subplots(3, 1, figsize=(6.5, 3), sharex=True)\n",
    "\n",
    "    axs[0].plot(ts, uss, color='k')\n",
    "    axs[0].set_ylim(-0.1, 1.25)\n",
    "    axs[0].set_ylabel('Response\\nMagnitude')\n",
    "    axs[0].set_title('Unconditioned Stimulus (US)')\n",
    "\n",
    "    axs[1].plot(ts, css, color='k')\n",
    "    axs[1].set_ylim(-0.1, 1.25)\n",
    "    axs[1].set_ylabel('Response\\nMagnitude')\n",
    "    axs[1].set_title('Conditioned Stimulus (CS)')\n",
    "\n",
    "    axs[2].plot(ts, urs, linewidth=1, label='UR')\n",
    "    axs[2].plot(ts, crs, linewidth=1, label='CR')\n",
    "    axs[2].plot(ts, res, color='k')\n",
    "    axs[2].set_ylim(-0.1, 1.25)\n",
    "    axs[2].set_title('Response (UR + CR)')\n",
    "    axs[2].set_ylabel('Response\\nMagnitude')\n",
    "    axs[2].set_xlabel('Time $t$ (s)')\n",
    "    axs[2].legend()\n",
    "\n",
    "    fig.tight_layout()\n",
    "\n",
    "    return fig, axs"
   ]
  },
  {
   "cell_type": "code",
   "execution_count": 87,
   "metadata": {},
   "outputs": [
    {
     "data": {
      "image/png": "[encoded data removed]",
      "text/plain": [
       "<Figure size 468x216 with 3 Axes>"
      ]
     },
     "metadata": {
      "needs_background": "light"
     },
     "output_type": "display_data"
    }
   ],
   "source": [
    "fig, axs = plot_conditioning_network(*data)\n",
    "fig.savefig('../classical_conditioning_experiment.pdf', bbox_inches='tight', transparent=True)"
   ]
  },
  {
   "cell_type": "code",
   "execution_count": null,
   "metadata": {},
   "outputs": [],
   "source": []
  }
 ],
 "metadata": {
  "kernelspec": {
   "display_name": "Python 3",
   "language": "python",
   "name": "python3"
  },
  "language_info": {
   "codemirror_mode": {
    "name": "ipython",
    "version": 3
   },
   "file_extension": ".py",
   "mimetype": "text/x-python",
   "name": "python",
   "nbconvert_exporter": "python",
   "pygments_lexer": "ipython3",
   "version": "3.7.6"
  }
 },
 "nbformat": 4,
 "nbformat_minor": 4
}
