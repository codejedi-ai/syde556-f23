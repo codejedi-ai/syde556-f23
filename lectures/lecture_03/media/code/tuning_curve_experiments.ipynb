{
 "cells": [
  {
   "cell_type": "code",
   "execution_count": 1,
   "metadata": {},
   "outputs": [],
   "source": [
    "import nengo\n",
    "import numpy as np\n",
    "import matplotlib.pyplot as plt\n",
    "\n",
    "%config InlineBackend.figure_formats = ['svg']"
   ]
  },
  {
   "cell_type": "code",
   "execution_count": 2,
   "metadata": {},
   "outputs": [],
   "source": [
    "def plot_tuning_curve(α=1.0, Jbias=0.0, x0=-1.0, x1=1.0):\n",
    "    # Get the standard LIF response curve from nengo\n",
    "    G = lambda J: nengo.LIFRate(tau_ref=1.0e-3).rates(\n",
    "        J.reshape(-1), gain=1.0, bias=0.0).reshape(J.shape)\n",
    "\n",
    "    # Generate the input range\n",
    "    xs = np.linspace(x0, x1, 1000)\n",
    "\n",
    "    # Translate the values into currents\n",
    "    J = α * xs + Jbias\n",
    "\n",
    "    # Plot the tuning curves\n",
    "    fig, ax = plt.subplots(figsize=(3, 2.5))\n",
    "    ax.plot(xs, G(J))\n",
    "    ax.set_xlabel('Represented value $x$')\n",
    "    ax.set_ylabel('Neural response $a$ ($\\\\mathrm{s}^{-1}$)')\n",
    "    ax.set_ylim(0, None)"
   ]
  },
  {
   "cell_type": "code",
   "execution_count": 3,
   "metadata": {},
   "outputs": [],
   "source": [
    "#plot_tuning_curve(α=1.0, Jbias=0.0)"
   ]
  },
  {
   "cell_type": "code",
   "execution_count": 4,
   "metadata": {},
   "outputs": [],
   "source": [
    "#plot_tuning_curve(α=2.0, Jbias=0.0)"
   ]
  },
  {
   "cell_type": "code",
   "execution_count": 5,
   "metadata": {},
   "outputs": [],
   "source": [
    "#plot_tuning_curve(α=0.15, Jbias=13.5, x0=-80, x1=0)"
   ]
  },
  {
   "cell_type": "code",
   "execution_count": 6,
   "metadata": {},
   "outputs": [],
   "source": [
    "#plot_tuning_curve(α=-0.00011, Jbias=1.0035, x0=1, x1=30)"
   ]
  }
 ],
 "metadata": {
  "kernelspec": {
   "display_name": "Python 3",
   "language": "python",
   "name": "python3"
  },
  "language_info": {
   "codemirror_mode": {
    "name": "ipython",
    "version": 3
   },
   "file_extension": ".py",
   "mimetype": "text/x-python",
   "name": "python",
   "nbconvert_exporter": "python",
   "pygments_lexer": "ipython3",
   "version": "3.7.5"
  }
 },
 "nbformat": 4,
 "nbformat_minor": 4
}
