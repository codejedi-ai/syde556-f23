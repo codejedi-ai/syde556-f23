{
 "cells": [
  {
   "cell_type": "code",
   "execution_count": 1,
   "metadata": {},
   "outputs": [],
   "source": [
    "import numpy as np\n",
    "import nengo\n",
    "import matplotlib as mpl\n",
    "import matplotlib.pyplot as plt\n",
    "from nengo.utils.ensemble import tuning_curves\n",
    "from nengo.dists import Uniform"
   ]
  },
  {
   "cell_type": "code",
   "execution_count": 2,
   "metadata": {},
   "outputs": [],
   "source": [
    "nengo.rc.set(\"decoder_cache\", \"enabled\", \"false\")"
   ]
  },
  {
   "cell_type": "code",
   "execution_count": 3,
   "metadata": {},
   "outputs": [],
   "source": [
    "def make_neuron_population_and_compute_decoders(sigma=0.0, N=10):\n",
    "    \"\"\"\n",
    "    sigma: regularisation parameter (0 means ignore noise). This\n",
    "    will internally be multiplied by the maximum neural firing\n",
    "    rate.\n",
    "    N: number of neurons in the population.\n",
    "    \"\"\"    \n",
    "    #import time\n",
    "    #np.random.seed(int(time.time() * 10000000) & 0xFFFFFFFF)\n",
    "    model = nengo.Network()\n",
    "    with model:\n",
    "        # Defaults to LIF neurons, with random gains and biases for neurons\n",
    "        # between 100-200hz over -1,1\n",
    "        neurons = nengo.Ensemble(\n",
    "            N, dimensions=1, max_rates=Uniform(100,200))\n",
    "\n",
    "        # This is just to generate the decoders\n",
    "        connection = nengo.Connection(\n",
    "            neurons, neurons,\n",
    "            solver=nengo.solvers.LstsqL2(reg=sigma))\n",
    "\n",
    "    # Compute the decoders\n",
    "    sim = nengo.Simulator(model, progress_bar=None)\n",
    "    D = sim.data[connection].weights\n",
    "\n",
    "    # Fetch the tuning curves\n",
    "    xs, A = tuning_curves(neurons, sim)\n",
    "    return D, A, xs"
   ]
  },
  {
   "cell_type": "code",
   "execution_count": 4,
   "metadata": {},
   "outputs": [
    {
     "name": "stderr",
     "output_type": "stream",
     "text": [
      "100.00% done...\n"
     ]
    }
   ],
   "source": [
    "import multiprocessing\n",
    "import sys\n",
    "\n",
    "def single_trial(args):\n",
    "    j, N = args\n",
    "    sigma = 10e-3\n",
    "    D, A, xs = make_neuron_population_and_compute_decoders(sigma, N)\n",
    "    return j, \\\n",
    "           0.5 * np.mean(np.square(D @ A.T - xs.T)), \\\n",
    "           0.5 * np.square(sigma) * np.sum(np.square(D))\n",
    "\n",
    "n_ns = 20\n",
    "n_trials = 100\n",
    "Es = np.zeros((2, n_ns, n_trials))\n",
    "ns_log = np.linspace(0.1, 3, n_ns)\n",
    "Ns = np.round(np.power(10, ns_log)).astype(int)\n",
    "with multiprocessing.Pool() as pool:\n",
    "    for i, N in enumerate(Ns):\n",
    "        for j, E0, E1 in pool.imap(single_trial, [(j, N) for j in range(n_trials)]):\n",
    "            Es[:, i, j] = E0, E1\n",
    "            sys.stderr.write(\"\\r{:0.2f}% done...\".format(100 * (j + 1 + n_trials * i) / (n_trials * n_ns)))\n",
    "            sys.stderr.flush()\n",
    "    sys.stderr.write(\"\\n\")"
   ]
  },
  {
   "cell_type": "code",
   "execution_count": 5,
   "metadata": {},
   "outputs": [
    {
     "data": {
      "image/png": "[encoded data removed]",
      "text/plain": [
       "<Figure size 360x180 with 2 Axes>"
      ]
     },
     "metadata": {
      "needs_background": "light"
     },
     "output_type": "display_data"
    }
   ],
   "source": [
    "fig, (ax1, ax2) = plt.subplots(1, 2, figsize=(5, 2.5))\n",
    "\n",
    "ax1.loglog(Ns, 1e-8 / np.power(Ns, 1), 'k--', label=\"$1/n$\")\n",
    "ax1.loglog(Ns, np.mean(Es[1], axis=1), label=\"Neurons\")\n",
    "ax1.set_xlabel(\"Number of neurons $n$\")\n",
    "ax1.set_ylabel(\"Square error\")\n",
    "ax1.set_title(\"Error due to noise $E_\\mathrm{noise}$\");\n",
    "ax1.legend()\n",
    "\n",
    "ax2.loglog(Ns, 2e-2 / np.power(Ns, 2), 'k--', label=\"$1/n^2$\")\n",
    "ax2.loglog(Ns, 2 / np.power(Ns, 4), 'k:', label=\"$1/n^4$\")\n",
    "ax2.loglog(Ns, np.mean(Es[0], axis=1), label=\"Neurons\")\n",
    "ax2.set_xlabel(\"Number of neurons $n$\")\n",
    "ax2.set_ylabel(\"Square error\")\n",
    "ax2.set_title(\"Error due to static distortion $E_\\mathrm{dist}$\")\n",
    "ax2.legend()\n",
    "\n",
    "fig.tight_layout()\n",
    "fig.savefig(\"../error_experiment.pdf\", transparent=True, bbox_inches='tight')"
   ]
  }
 ],
 "metadata": {
  "kernelspec": {
   "display_name": "Python 3",
   "language": "python",
   "name": "python3"
  },
  "language_info": {
   "codemirror_mode": {
    "name": "ipython",
    "version": 3
   },
   "file_extension": ".py",
   "mimetype": "text/x-python",
   "name": "python",
   "nbconvert_exporter": "python",
   "pygments_lexer": "ipython3",
   "version": "3.7.5"
  }
 },
 "nbformat": 4,
 "nbformat_minor": 4
}
