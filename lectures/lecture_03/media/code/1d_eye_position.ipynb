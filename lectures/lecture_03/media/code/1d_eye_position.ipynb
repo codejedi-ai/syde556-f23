{
 "cells": [
  {
   "cell_type": "code",
   "execution_count": 10,
   "metadata": {},
   "outputs": [
    {
     "data": {
      "application/vdom.v1+json": {
       "attributes": {},
       "tagName": "div"
      },
      "text/html": [
       "\n",
       "                <script>\n",
       "                    if (Jupyter.version.split(\".\")[0] < 5) {\n",
       "                        var pb = document.getElementById(\"73e7a579-d267-4fcd-9794-aa49eabc65ab\");\n",
       "                        var text = document.createTextNode(\n",
       "                            \"HMTL progress bar requires Jupyter Notebook >= \" +\n",
       "                            \"5.0 or Jupyter Lab. Alternatively, you can use \" +\n",
       "                            \"TerminalProgressBar().\");\n",
       "                        pb.parentNode.insertBefore(text, pb);\n",
       "                    }\n",
       "                </script>\n",
       "                <div id=\"73e7a579-d267-4fcd-9794-aa49eabc65ab\" style=\"\n",
       "                    width: 100%;\n",
       "                    border: 1px solid #cfcfcf;\n",
       "                    border-radius: 4px;\n",
       "                    text-align: center;\n",
       "                    position: relative;\">\n",
       "                  <div class=\"pb-text\" style=\"\n",
       "                      position: absolute;\n",
       "                      width: 100%;\">\n",
       "                    0%\n",
       "                  </div>\n",
       "                  <div class=\"pb-fill\" style=\"\n",
       "                      background-color: #bdd2e6;\n",
       "                      width: 0%;\">\n",
       "                    <style type=\"text/css\" scoped=\"scoped\">\n",
       "                        @keyframes pb-fill-anim {\n",
       "                            0% { background-position: 0 0; }\n",
       "                            100% { background-position: 100px 0; }\n",
       "                        }\n",
       "                    </style>\n",
       "                    &nbsp;\n",
       "                  </div>\n",
       "                </div>"
      ],
      "text/plain": [
       "HtmlProgressBar cannot be displayed. Please use the TerminalProgressBar. It can be enabled with `nengo.rc.set('progress', 'progress_bar', 'nengo.utils.progress.TerminalProgressBar')`."
      ]
     },
     "metadata": {},
     "output_type": "display_data"
    },
    {
     "data": {
      "application/vdom.v1+json": {
       "attributes": {
        "id": "af420952-b65d-42ba-b858-319ed72c01a6",
        "style": {
         "border": "1px solid #cfcfcf",
         "borderRadius": "4px",
         "boxSizing": "border-box",
         "position": "relative",
         "textAlign": "center",
         "width": "100%"
        }
       },
       "children": [
        {
         "attributes": {
          "class": "pb-text",
          "style": {
           "position": "absolute",
           "width": "100%"
          }
         },
         "children": [
          "Build finished in 0:00:01."
         ],
         "tagName": "div"
        },
        {
         "attributes": {
          "class": "pb-fill",
          "style": {
           "animation": "none",
           "backgroundColor": "#bdd2e6",
           "backgroundImage": "none",
           "backgroundSize": "100px 100%",
           "width": "100%"
          }
         },
         "children": [
          {
           "attributes": {
            "scoped": "scoped",
            "type": "text/css"
           },
           "children": [
            "\n                        @keyframes pb-fill-anim {\n                            0% { background-position: 0 0; }\n                            100% { background-position: 100px 0; }\n                        }}"
           ],
           "tagName": "style"
          },
          " "
         ],
         "tagName": "div"
        }
       ],
       "tagName": "div"
      },
      "text/html": [
       "<script>\n",
       "              (function () {\n",
       "                  var root = document.getElementById('73e7a579-d267-4fcd-9794-aa49eabc65ab');\n",
       "                  var text = root.getElementsByClassName('pb-text')[0];\n",
       "                  var fill = root.getElementsByClassName('pb-fill')[0];\n",
       "\n",
       "                  text.innerHTML = 'Build finished in 0:00:01.';\n",
       "                  \n",
       "            fill.style.width = '100%';\n",
       "            fill.style.animation = 'pb-fill-anim 2s linear infinite';\n",
       "            fill.style.backgroundSize = '100px 100%';\n",
       "            fill.style.backgroundImage = 'repeating-linear-gradient(' +\n",
       "                '90deg, #bdd2e6, #edf2f8 40%, #bdd2e6 80%, #bdd2e6)';\n",
       "        \n",
       "                  \n",
       "                fill.style.animation = 'none';\n",
       "                fill.style.backgroundImage = 'none';\n",
       "            \n",
       "              })();\n",
       "        </script>"
      ]
     },
     "metadata": {},
     "output_type": "display_data"
    }
   ],
   "source": [
    "import numpy as np\n",
    "import matplotlib.pyplot as plt\n",
    "\n",
    "import nengo\n",
    "from nengo.utils.ensemble import tuning_curves\n",
    "from nengo.dists import Uniform\n",
    "\n",
    "# Number of neurons\n",
    "N = 10\n",
    "\n",
    "# Membrane time constant\n",
    "tau_rc = 20 # 20s\n",
    "\n",
    "# Refractory period\n",
    "tau_ref = 1e-3 # 1ms\n",
    "\n",
    "# Amount of noise\n",
    "sigma = 0.2\n",
    "\n",
    "# Construct the neuron model instance\n",
    "lif_model = nengo.LIFRate(\n",
    "    tau_rc=tau_rc,\n",
    "    tau_ref=tau_ref)\n",
    "\n",
    "# Build a network containing a single ensemble\n",
    "model = nengo.Network(label='Neurons')\n",
    "with model:\n",
    "    # Single neuron ensemble\n",
    "    neurons = nengo.Ensemble(\n",
    "        N, dimensions=1, \n",
    "        max_rates = Uniform(250, 300),\n",
    "        neuron_type = lif_model,\n",
    "        radius = 60)\n",
    "\n",
    "    # Single connection for decoder computation\n",
    "    connection = nengo.Connection(\n",
    "        neurons, neurons, #This is just to generate the decoders\n",
    "        solver=nengo.solvers.LstsqL2(reg=sigma))\n",
    "\n",
    "sim = nengo.Simulator(model)\n",
    "\n",
    "# Fetch the decoders\n",
    "d = sim.data[connection].weights.T\n",
    "\n",
    "# Fetch the tuning curves\n",
    "x, A = tuning_curves(neurons, sim)\n",
    "\n",
    "# Generate a noisy version of A\n",
    "A_noisy = A + numpy.random.normal(scale=sigma*numpy.max(A), size=A.shape)\n",
    "\n",
    "# Decode the value\n",
    "xhat = numpy.dot(A_noisy, d)\n",
    "\n",
    "# Compute the RMSE\n",
    "RMSE = np.sqrt(np.mean(np.square(x - xhat)))"
   ]
  },
  {
   "cell_type": "code",
   "execution_count": 16,
   "metadata": {},
   "outputs": [
    {
     "data": {
      "image/png": "[encoded data removed]",
      "text/plain": [
       "<Figure size 360x180 with 2 Axes>"
      ]
     },
     "metadata": {
      "needs_background": "light"
     },
     "output_type": "display_data"
    }
   ],
   "source": [
    "fig, (ax1, ax2) = plt.subplots(1, 2, figsize=(5, 2.5))\n",
    "ax1.plot(x, A)\n",
    "ax1.set_xlabel('Eye position $x$ (deg)')\n",
    "ax1.set_ylabel('Firing rate ($\\\\mathrm{s}^{-1}$)');\n",
    "ax1.set_title('Population tuning curves')\n",
    "\n",
    "ax2.plot(x, xhat, label=\"Decoded value\")\n",
    "ax2.plot(x, x, 'k--', label=\"Ideal\")\n",
    "ax2.set_xlabel('Eye position $x$ (deg)')\n",
    "ax2.set_ylabel('Decoded value $\\hat x$')\n",
    "ax2.set_title('Decoding')\n",
    "ax2.legend()\n",
    "\n",
    "fig.tight_layout()\n",
    "fig.savefig(\"../1d_eye_position.pdf\", transparent=True, bbox_inches='tight')"
   ]
  }
 ],
 "metadata": {
  "kernelspec": {
   "display_name": "Python 3",
   "language": "python",
   "name": "python3"
  },
  "language_info": {
   "codemirror_mode": {
    "name": "ipython",
    "version": 3
   },
   "file_extension": ".py",
   "mimetype": "text/x-python",
   "name": "python",
   "nbconvert_exporter": "python",
   "pygments_lexer": "ipython3",
   "version": "3.7.5"
  }
 },
 "nbformat": 4,
 "nbformat_minor": 4
}
