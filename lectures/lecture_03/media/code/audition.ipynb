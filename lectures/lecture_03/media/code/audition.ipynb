{
 "cells": [
  {
   "cell_type": "code",
   "execution_count": 2,
   "metadata": {},
   "outputs": [],
   "source": [
    "import numpy as np\n",
    "import matplotlib.pyplot as plt\n",
    "\n"
   ]
  },
  {
   "cell_type": "code",
   "execution_count": 28,
   "metadata": {},
   "outputs": [],
   "source": [
    "data_cochlear_nerve = np.array([\n",
    "-75.3, 167.7,\n",
    "-70.4, 204.8,\n",
    "-65.0, 181.4,\n",
    "-60.2, 186.2,\n",
    "-55.7, 226.2,\n",
    "-50.0, 277.9,\n",
    "-45.0, 354.9,\n",
    "-40.1, 502.1,\n",
    "-35.0, 659.1,\n",
    "-30.3, 775.1,\n",
    "-24.7, 821.9]).reshape(-1, 2).T\n",
    "\n",
    "data_trapezoid_body = np.array([\n",
    "-80.3, 33.2,\n",
    "-69.9, 26.3,\n",
    "-59.8, 92.6,\n",
    "-50.2, 223.3,\n",
    "-40.0, 320.8,\n",
    "-29.8, 386.1,\n",
    "-19.6, 399.8,\n",
    "-9.5, 421.2]).reshape(-1, 2).T\n",
    "\n",
    "data_superior_olivary_complex = np.array([\n",
    "-80.0, 18.5,\n",
    "-59.8, 32.2,\n",
    "-39.9, 135.5,\n",
    "-19.8, 166.7,\n",
    "-0.4, 168.7]).reshape(-1, 2).T\n",
    "\n",
    "data_auditory_cortex = np.array([\n",
    "-40.6, 50.7,\n",
    "-35.3, 56.6,\n",
    "-31.2, 46.8,\n",
    "-25.1, 90.7,\n",
    "-19.6, 74.1,\n",
    "-14.4, 110.2,\n",
    "-9.7, 98.5,\n",
    "-4.6, 120.9]).reshape(-1, 2).T\n",
    "\n",
    "data_medial_geniculate = np.array([\n",
    "-50.1, 25.4,\n",
    "-45.0, 29.3,\n",
    "-40.0, 29.3,\n",
    "-35.2, 38.0,\n",
    "-30.1, 44.9,\n",
    "-24.9, 50.7,\n",
    "-19.5, 57.5,\n",
    "-14.4, 64.4,\n",
    "-9.9, 74.6,\n",
    "-4.8, 89.2,\n",
    "0.2, 100.9]).reshape(-1, 2).T"
   ]
  },
  {
   "cell_type": "code",
   "execution_count": 46,
   "metadata": {},
   "outputs": [
    {
     "data": {
      "image/png": "[encoded data removed]",
      "text/plain": [
       "<Figure size 216x198 with 1 Axes>"
      ]
     },
     "metadata": {
      "needs_background": "light"
     },
     "output_type": "display_data"
    }
   ],
   "source": [
    "def plot_dataset(i, ax, data, *args, **kwargs):\n",
    "    import matplotlib.cm as cm\n",
    "    import scipy.interpolate\n",
    "\n",
    "    color = cm.get_cmap('tab10')(i / 9)\n",
    "    marker = ['+', 'o', 's', '^', '*'][i]\n",
    "\n",
    "    xs = np.linspace(np.min(data[0]), np.max(data[0]), 1000)\n",
    "    ys = scipy.interpolate.interp1d(data[0], data[1], kind='cubic')(xs)\n",
    "    ax.plot(xs, ys, color=color)\n",
    "    ax.plot(data[0], data[1], marker, color=color)\n",
    "\n",
    "\n",
    "fig, ax = plt.subplots(figsize=(3, 2.75))\n",
    "plot_dataset(0, ax, data_cochlear_nerve)\n",
    "plot_dataset(1, ax, data_trapezoid_body)\n",
    "plot_dataset(2, ax, data_superior_olivary_complex)\n",
    "plot_dataset(3, ax, data_auditory_cortex)\n",
    "plot_dataset(4, ax, data_medial_geniculate)\n",
    "ax.set_xlabel('Sound intensity (dB)')\n",
    "ax.set_ylabel('Firing rate')\n",
    "\n",
    "fig.savefig(\"../audition_tuning_curves.pdf\", transparent=True, bbox_inches=\"tight\")"
   ]
  },
  {
   "cell_type": "code",
   "execution_count": null,
   "metadata": {},
   "outputs": [],
   "source": []
  }
 ],
 "metadata": {
  "kernelspec": {
   "display_name": "Python 3",
   "language": "python",
   "name": "python3"
  },
  "language_info": {
   "codemirror_mode": {
    "name": "ipython",
    "version": 3
   },
   "file_extension": ".py",
   "mimetype": "text/x-python",
   "name": "python",
   "nbconvert_exporter": "python",
   "pygments_lexer": "ipython3",
   "version": "3.7.5"
  }
 },
 "nbformat": 4,
 "nbformat_minor": 2
}
