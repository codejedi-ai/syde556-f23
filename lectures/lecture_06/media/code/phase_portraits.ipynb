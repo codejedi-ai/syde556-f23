{
 "cells": [
  {
   "cell_type": "code",
   "execution_count": 1,
   "metadata": {},
   "outputs": [],
   "source": [
    "import numpy as np\n",
    "import sympy as sp\n",
    "import matplotlib.cm as cm\n",
    "import matplotlib.pyplot as plt\n",
    "import itertools"
   ]
  },
  {
   "cell_type": "code",
   "execution_count": 2,
   "metadata": {},
   "outputs": [],
   "source": [
    "def plot_phase_portrait(f, ax=None, figsize=(3, 3), plot_equilibria=True):\n",
    "    xs = np.linspace(-2, 2, 11)\n",
    "    us = np.linspace(-2, 2, 11)\n",
    "\n",
    "    xss, uss = np.meshgrid(xs, us)\n",
    "    dxss, duss = f(xss, uss)\n",
    "\n",
    "    if ax is None:\n",
    "        fig, ax = plt.subplots(figsize=figsize)\n",
    "    else:\n",
    "        fig = ax.get_figure()\n",
    "\n",
    "    # Plot the quiver plot\n",
    "    ax.quiver(xss, uss, dxss, duss)\n",
    "\n",
    "    # Try to plot the equilibria\n",
    "    if plot_equilibria:\n",
    "        # Create some sympy symbols\n",
    "        x, u = sp.symbols('x u')\n",
    "\n",
    "        # Compute the Jacobian elements\n",
    "        dfx_dx = sp.diff(f(x, u)[0], x)\n",
    "        dfx_du = sp.diff(f(x, u)[0], u)\n",
    "        dfu_dx = sp.diff(f(x, u)[1], x)\n",
    "        dfu_du = sp.diff(f(x, u)[1], u)\n",
    "\n",
    "        # Plot the equilibria\n",
    "        xs = np.linspace(-2, 2, 100)\n",
    "        us = np.linspace(-2, 2, 100)\n",
    "\n",
    "        sols_dict = sp.solve(f(x, u), (x, u))\n",
    "        if not isinstance(sols_dict, dict):\n",
    "            sols_dict = {}\n",
    "            for var_ in (x, u):\n",
    "                sol = sp.solve(f(x, u), var_)\n",
    "                if len(sol) > 0:\n",
    "                    if isinstance(sol, dict):\n",
    "                        sols_dict[var_] = sol[var_]\n",
    "                    else:\n",
    "                        sols_dict[var_] = list(itertools.chain.from_iterable(sol))\n",
    "\n",
    "        for var_, sols in sols_dict.items():\n",
    "            if not hasattr(sols, '__iter__'):\n",
    "                sols = [sols]\n",
    "            for sol in sols:\n",
    "                if var_ is x:\n",
    "                    f_sol = sp.utilities.lambdify(u, sol, \"numpy\")\n",
    "                    f_xs = f_sol(us) * np.ones_like(us)\n",
    "                    f_us = us\n",
    "                elif var_ is u:\n",
    "                    f_sol = sp.utilities.lambdify(x, sol, \"numpy\")\n",
    "                    f_us = f_sol(xs) * np.ones_like(xs)\n",
    "                    f_xs = xs\n",
    "                else:\n",
    "                    raise ValueError(\"Unknown variable\")\n",
    "\n",
    "                # Differentiate between stable and unstable attractors\n",
    "                f_us_stable, f_xs_stable = np.copy(f_us), np.copy(f_xs)\n",
    "                f_us_unstable, f_xs_unstable = np.copy(f_us), np.copy(f_xs)\n",
    "\n",
    "                for i, (uv, xv) in enumerate(zip(f_us, f_xs)):\n",
    "                    if np.isnan(uv) or np.isnan(xv):\n",
    "                        continue\n",
    "                    J = np.array([\n",
    "                        [dfx_dx.subs({u: uv, x: xv}).evalf(),\n",
    "                         dfx_du.subs({u: uv, x: xv}).evalf()],\n",
    "                        [dfu_dx.subs({u: uv, x: xv}).evalf(),\n",
    "                         dfu_du.subs({u: uv, x: xv}).evalf()],\n",
    "                    ], dtype=np.float)\n",
    "                    if any(np.real(np.linalg.eigvals(J)) > 0):\n",
    "                        f_us_stable[i] = np.NaN\n",
    "                        f_xs_stable[i] = np.NaN\n",
    "                    else:\n",
    "                        f_us_unstable[i] = np.NaN\n",
    "                        f_xs_unstable[i] = np.NaN\n",
    "                cmap = cm.get_cmap('tab10')\n",
    "                ax.plot(f_xs_stable, f_us_stable, color=cmap(0.0), linestyle='-', linewidth=2)\n",
    "                ax.plot(f_xs_unstable, f_us_unstable, color=cmap(0.0), linestyle=':', linewidth=2)\n",
    "\n",
    "    ax.set_xlabel(\"State $x$\")\n",
    "    ax.set_ylabel(\"Input $u$\")\n",
    "    ax.set_xlim(-2, 2)\n",
    "    ax.set_ylim(-2, 2)\n",
    "\n",
    "    return fig, ax"
   ]
  },
  {
   "cell_type": "code",
   "execution_count": 3,
   "metadata": {},
   "outputs": [
    {
     "name": "stderr",
     "output_type": "stream",
     "text": [
      "<string>:2: RuntimeWarning: invalid value encountered in sqrt\n",
      "<string>:2: RuntimeWarning: invalid value encountered in sqrt\n"
     ]
    },
    {
     "data": {
      "image/png": "[encoded data removed]",
      "text/plain": [
       "<Figure size 468x167.76 with 3 Axes>"
      ]
     },
     "metadata": {
      "needs_background": "light"
     },
     "output_type": "display_data"
    }
   ],
   "source": [
    "fig, axs = plt.subplots(1, 3, figsize=(6.5, 2.33))\n",
    "\n",
    "_, ax = plot_phase_portrait(lambda x, u: (u + 1, 0), axs[0])\n",
    "ax.set_title('Phase portrait for $u + 1$')\n",
    "\n",
    "_, ax = plot_phase_portrait(lambda x, u: (u - 2 * x, 0), axs[1])\n",
    "ax.set_title('Phase portrait for $u - 2x$')\n",
    "\n",
    "_, ax = plot_phase_portrait(lambda x, u: (u + x ** 2 - x, 0), axs[2])\n",
    "ax.set_title('Phase portrait for $u + x^2 - x$')\n",
    "\n",
    "fig.tight_layout()\n",
    "fig.savefig('../phase_portraits.pdf', transparent=True, bbox_inches='tight')"
   ]
  }
 ],
 "metadata": {
  "kernelspec": {
   "display_name": "Python 3",
   "language": "python",
   "name": "python3"
  },
  "language_info": {
   "codemirror_mode": {
    "name": "ipython",
    "version": 3
   },
   "file_extension": ".py",
   "mimetype": "text/x-python",
   "name": "python",
   "nbconvert_exporter": "python",
   "pygments_lexer": "ipython3",
   "version": "3.7.6"
  }
 },
 "nbformat": 4,
 "nbformat_minor": 4
}
