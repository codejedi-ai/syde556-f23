{
 "cells": [
  {
   "cell_type": "code",
   "execution_count": 9,
   "metadata": {},
   "outputs": [],
   "source": [
    "import numpy as np\n",
    "import sympy as sp\n",
    "import matplotlib.cm as cm\n",
    "import matplotlib.pyplot as plt\n",
    "import itertools\n",
    "import nengo\n",
    "from nengo.processes import Piecewise"
   ]
  },
  {
   "cell_type": "code",
   "execution_count": 167,
   "metadata": {},
   "outputs": [],
   "source": [
    "def plot_phase_portrait(f, ax=None, figsize=(3, 3), symbolic_eqilibria=True, th=1e-3):\n",
    "    xs = np.linspace(-2, 2, 11)\n",
    "    us = np.linspace(-2, 2, 11)\n",
    "\n",
    "    xss, uss = np.meshgrid(xs, us)\n",
    "    dxss, duss = f(xss, uss)\n",
    "\n",
    "    if ax is None:\n",
    "        fig, ax = plt.subplots(figsize=figsize)\n",
    "    else:\n",
    "        fig = ax.get_figure()\n",
    "\n",
    "    # Plot the quiver plot\n",
    "    ax.quiver(xss, uss, dxss, duss)\n",
    "\n",
    "    # Try to plot the equilibria\n",
    "    if symbolic_eqilibria:\n",
    "        # Create some sympy symbols\n",
    "        x, u = sp.symbols('x u')\n",
    "\n",
    "        # Compute the Jacobian elements\n",
    "        dfx_dx = sp.diff(f(x, u)[0], x)\n",
    "        dfx_du = sp.diff(f(x, u)[0], u)\n",
    "        dfu_dx = sp.diff(f(x, u)[1], x)\n",
    "        dfu_du = sp.diff(f(x, u)[1], u)\n",
    "\n",
    "        # Plot the equilibria\n",
    "        xs = np.linspace(-2, 2, 100)\n",
    "        us = np.linspace(-2, 2, 100)\n",
    "\n",
    "        sols_dict = sp.solve(f(x, u), (x, u))\n",
    "        if not isinstance(sols_dict, dict):\n",
    "            sols_dict = {}\n",
    "            for var_ in (x, u):\n",
    "                sol = sp.solve(f(x, u), var_)\n",
    "                if len(sol) > 0:\n",
    "                    if isinstance(sol, dict):\n",
    "                        sols_dict[var_] = sol[var_]\n",
    "                    else:\n",
    "                        sols_dict[var_] = list(itertools.chain.from_iterable(sol))\n",
    "\n",
    "        for var_, sols in sols_dict.items():\n",
    "            if not hasattr(sols, '__iter__'):\n",
    "                sols = [sols]\n",
    "            for sol in sols:\n",
    "                if var_ is x:\n",
    "                    f_sol = sp.utilities.lambdify(u, sol, \"numpy\")\n",
    "                    f_xs = f_sol(us) * np.ones_like(us)\n",
    "                    f_us = us\n",
    "                elif var_ is u:\n",
    "                    f_sol = sp.utilities.lambdify(x, sol, \"numpy\")\n",
    "                    f_us = f_sol(xs) * np.ones_like(xs)\n",
    "                    f_xs = xs\n",
    "                else:\n",
    "                    raise ValueError(\"Unknown variable\")\n",
    "\n",
    "                # Differentiate between stable and unstable attractors\n",
    "                f_us_stable, f_xs_stable = np.copy(f_us), np.copy(f_xs)\n",
    "                f_us_unstable, f_xs_unstable = np.copy(f_us), np.copy(f_xs)\n",
    "\n",
    "                for i, (uv, xv) in enumerate(zip(f_us, f_xs)):\n",
    "                    if np.isnan(uv) or np.isnan(xv):\n",
    "                        continue\n",
    "                    J = np.array([\n",
    "                        [dfx_dx.subs({u: uv, x: xv}).evalf(),\n",
    "                         dfx_du.subs({u: uv, x: xv}).evalf()],\n",
    "                        [dfu_dx.subs({u: uv, x: xv}).evalf(),\n",
    "                         dfu_du.subs({u: uv, x: xv}).evalf()],\n",
    "                    ], dtype=np.float)\n",
    "                    if any(np.real(np.linalg.eigvals(J)) > 0):\n",
    "                        f_us_stable[i] = np.NaN\n",
    "                        f_xs_stable[i] = np.NaN\n",
    "                    else:\n",
    "                        f_us_unstable[i] = np.NaN\n",
    "                        f_xs_unstable[i] = np.NaN\n",
    "                cmap = cm.get_cmap('tab10')\n",
    "                ax.plot(f_xs_stable, f_us_stable, color=cmap(0.0), linestyle='-', linewidth=2)\n",
    "                ax.plot(f_xs_unstable, f_us_unstable, color=cmap(0.0), linestyle=':', linewidth=2)\n",
    "    else:\n",
    "        # Evaluate the grid at a higher resolution\n",
    "        xs = np.linspace(-2, 2, 300)\n",
    "        us = np.linspace(-2, 2, 300)\n",
    "\n",
    "        xss, uss = np.meshgrid(xs, us)\n",
    "        dxss, duss = f(xss, uss)\n",
    "\n",
    "        # Plot the zero contour line\n",
    "        mag = dxss ** 2 + duss ** 2\n",
    "        cmap = cm.get_cmap('tab10')\n",
    "        ax.contour(xs, us, mag, [th], colors=[cmap(0.0)], linewidths=[2])\n",
    "\n",
    "        \n",
    "\n",
    "    ax.set_xlabel(\"State $x$\")\n",
    "    ax.set_ylabel(\"Input $u$\")\n",
    "    ax.set_xlim(-2, 2)\n",
    "    ax.set_ylim(-2, 2)\n",
    "\n",
    "    return fig, ax"
   ]
  },
  {
   "cell_type": "code",
   "execution_count": 43,
   "metadata": {},
   "outputs": [],
   "source": [
    "def simulate_dynamics(\n",
    "        stim, g, f, T=1.0, dt=1e-3, tau=100e-3, tauProbe=10e-3, n_neurons=100, get_decoders=False):\n",
    "\n",
    "    with nengo.Network(seed=581) as model:\n",
    "        nd_stim = nengo.Node(stim)\n",
    "\n",
    "        ens_x = nengo.Ensemble(\n",
    "            n_neurons=n_neurons, dimensions=1)\n",
    "\n",
    "        nengo.Connection(nd_stim, ens_x, function=g, synapse=tau)\n",
    "        con_f = nengo.Connection(ens_x, ens_x, function=f, synapse=tau)\n",
    "\n",
    "        p_stim = nengo.Probe(nd_stim)\n",
    "        p_x = nengo.Probe(ens_x, synapse=tauProbe)\n",
    "\n",
    "    with nengo.Simulator(model, dt=dt, progress_bar=None) as sim:\n",
    "        sim.run(T)\n",
    "\n",
    "    if not get_decoders:\n",
    "        return \\\n",
    "            sim.trange(), \\\n",
    "            sim.data[p_stim], \\\n",
    "            sim.data[p_x]\n",
    "    else:\n",
    "        return \\\n",
    "            sim.trange(), \\\n",
    "            sim.data[p_stim], \\\n",
    "            sim.data[p_x], \\\n",
    "            sim.data[ens_x], \\\n",
    "            sim.data[con_f]\n",
    "\n",
    "def plot_dynamics(ts, us, xs, ax=None, show_legend=True, ncol=2, show_input=True, range_=1.75, label='State $x(t)$', tauProbe=10e-3):\n",
    "    if ax is None:\n",
    "        fig, ax = plt.subplots(figsize=(3.5, 3))\n",
    "    else:\n",
    "        fig = ax.get_figure()\n",
    "\n",
    "    if show_input:\n",
    "        ax.plot(ts, us, 'k--', label='$u(t)$')\n",
    "        ax.plot(ts, nengo.Lowpass(tauProbe).filt(us, dt=1e-3), 'k:')#, label='$(u \\\\ast h)(t)$')\n",
    "    ax.plot(ts, xs, label=label)\n",
    "    if show_legend:\n",
    "        ax.legend(\n",
    "            ncol=ncol,\n",
    "            handlelength=2.0,\n",
    "            handletextpad=0.25,\n",
    "            labelspacing=0.1,\n",
    "            columnspacing=0.75\n",
    "        )\n",
    "    ax.set_xlabel('$t$ (s)')\n",
    "    if isinstance(range_, tuple):\n",
    "        ax.set_ylim(*range_)\n",
    "    else:\n",
    "        ax.set_ylim(-range_, range_)\n",
    "\n",
    "    return fig, ax"
   ]
  },
  {
   "cell_type": "code",
   "execution_count": 135,
   "metadata": {},
   "outputs": [],
   "source": [
    "def get_feedback_dynamics_for_ens(ens_data, con_data, dim=1):\n",
    "    def f(x):\n",
    "        gain = ens_data.gain\n",
    "        bias = ens_data.bias\n",
    "        encoders = ens_data.encoders\n",
    "        decoders = con_data.weights\n",
    "        neuron = nengo.LIF()\n",
    "        x_shape = x.shape\n",
    "        As = neuron.rates((x.reshape(-1, dim) @ encoders.T), gain=gain, bias=bias)\n",
    "        print(x.shape)\n",
    "        return (As @ decoders.T).reshape(x_shape)\n",
    "        \n",
    "    return f"
   ]
  },
  {
   "cell_type": "code",
   "execution_count": 183,
   "metadata": {},
   "outputs": [
    {
     "name": "stdout",
     "output_type": "stream",
     "text": [
      "(11, 11)\n",
      "(300, 300)\n"
     ]
    },
    {
     "data": {
      "image/png": "[encoded data removed]",
      "text/plain": [
       "<Figure size 468x180 with 2 Axes>"
      ]
     },
     "metadata": {
      "needs_background": "light"
     },
     "output_type": "display_data"
    },
    {
     "data": {
      "image/png": "[encoded data removed]",
      "text/plain": [
       "<Figure size 468x180 with 2 Axes>"
      ]
     },
     "metadata": {
      "needs_background": "light"
     },
     "output_type": "display_data"
    }
   ],
   "source": [
    "# Integrator\n",
    "\n",
    "A = np.array([\n",
    "    [0.0]\n",
    "], dtype=float)\n",
    "\n",
    "B = np.array([\n",
    "    [1.0]\n",
    "], dtype=float)\n",
    "\n",
    "tau = 100e-3\n",
    "Ap = tau * A + np.eye(A.shape[0])\n",
    "Bp = tau * B\n",
    "\n",
    "fig, axs = plt.subplots(1, 2, figsize=(6.5, 2.5))\n",
    "\n",
    "# Step function\n",
    "data = simulate_dynamics(Piecewise({\n",
    "    0.1: 1.0,\n",
    "    1.1: 0.0,}),\n",
    "    lambda u: Bp @ u,\n",
    "    lambda x: Ap @ x, T=4,tau=tau,\n",
    "    get_decoders=True)\n",
    "plot_dynamics(*data[0:3], range_=(-0.1, 1.1), ax=axs[0], ncol=1)\n",
    "axs[0].set_xlabel('Time $t$ (s)')\n",
    "axs[0].set_title('Step function input')\n",
    "\n",
    "# Sine input\n",
    "plot_dynamics(*simulate_dynamics(\n",
    "    lambda t: np.sin(2.0 * np.pi * t),\n",
    "    lambda u: Bp @ u,\n",
    "    lambda x: Ap @ x, T=4,tau=tau), ax=axs[1])\n",
    "axs[1].set_xlabel('Time $t$ (s)')\n",
    "axs[1].set_title('Sine input')\n",
    "\n",
    "fig.tight_layout()\n",
    "fig.savefig('../example_integrator.pdf', bbox_inches='tight', transparent=True)\n",
    "\n",
    "# Phase portraits optimal and target\n",
    "fig, axs = plt.subplots(1, 2, figsize=(6.5, 2.5))\n",
    "\n",
    "plot_phase_portrait(lambda x, u: (u, 0), ax=axs[0], symbolic_eqilibria=True)\n",
    "axs[0].set_title('Phase portrait (optimal)')\n",
    "\n",
    "ens_data = data[3]\n",
    "con_data = data[4]\n",
    "f = get_feedback_dynamics_for_ens(ens_data, con_data)\n",
    "plot_phase_portrait(lambda x, u: (u + (f(x) - x) / tau, 0), ax=axs[1], symbolic_eqilibria=False)\n",
    "axs[1].set_title('Phase portrait (neural)')\n",
    "\n",
    "fig.tight_layout()\n",
    "fig.savefig('../example_integrator_phases.pdf', bbox_inches='tight', transparent=True)\n"
   ]
  },
  {
   "cell_type": "code",
   "execution_count": 188,
   "metadata": {},
   "outputs": [
    {
     "data": {
      "application/vdom.v1+json": {
       "attributes": {},
       "tagName": "div"
      },
      "text/html": [
       "\n",
       "                <script>\n",
       "                    if (Jupyter.version.split(\".\")[0] < 5) {\n",
       "                        var pb = document.getElementById(\"5cc11608-e47d-4ce1-abc2-b36385222309\");\n",
       "                        var text = document.createTextNode(\n",
       "                            \"HMTL progress bar requires Jupyter Notebook >= \" +\n",
       "                            \"5.0 or Jupyter Lab. Alternatively, you can use \" +\n",
       "                            \"TerminalProgressBar().\");\n",
       "                        pb.parentNode.insertBefore(text, pb);\n",
       "                    }\n",
       "                </script>\n",
       "                <div id=\"5cc11608-e47d-4ce1-abc2-b36385222309\" style=\"\n",
       "                    width: 100%;\n",
       "                    border: 1px solid #cfcfcf;\n",
       "                    border-radius: 4px;\n",
       "                    text-align: center;\n",
       "                    position: relative;\">\n",
       "                  <div class=\"pb-text\" style=\"\n",
       "                      position: absolute;\n",
       "                      width: 100%;\">\n",
       "                    0%\n",
       "                  </div>\n",
       "                  <div class=\"pb-fill\" style=\"\n",
       "                      background-color: #bdd2e6;\n",
       "                      width: 0%;\">\n",
       "                    <style type=\"text/css\" scoped=\"scoped\">\n",
       "                        @keyframes pb-fill-anim {\n",
       "                            0% { background-position: 0 0; }\n",
       "                            100% { background-position: 100px 0; }\n",
       "                        }\n",
       "                    </style>\n",
       "                    &nbsp;\n",
       "                  </div>\n",
       "                </div>"
      ],
      "text/plain": [
       "HtmlProgressBar cannot be displayed. Please use the TerminalProgressBar. It can be enabled with `nengo.rc.set('progress', 'progress_bar', 'nengo.utils.progress.TerminalProgressBar')`."
      ]
     },
     "metadata": {},
     "output_type": "display_data"
    },
    {
     "data": {
      "application/vdom.v1+json": {
       "attributes": {
        "id": "4b14e76f-b8aa-4d2d-8368-3bec1322d7cb",
        "style": {
         "border": "1px solid #cfcfcf",
         "borderRadius": "4px",
         "boxSizing": "border-box",
         "position": "relative",
         "textAlign": "center",
         "width": "100%"
        }
       },
       "children": [
        {
         "attributes": {
          "class": "pb-text",
          "style": {
           "position": "absolute",
           "width": "100%"
          }
         },
         "children": [
          "Build finished in 0:00:01."
         ],
         "tagName": "div"
        },
        {
         "attributes": {
          "class": "pb-fill",
          "style": {
           "animation": "none",
           "backgroundColor": "#bdd2e6",
           "backgroundImage": "none",
           "backgroundSize": "100px 100%",
           "width": "100%"
          }
         },
         "children": [
          {
           "attributes": {
            "scoped": "scoped",
            "type": "text/css"
           },
           "children": [
            "\n                        @keyframes pb-fill-anim {\n                            0% { background-position: 0 0; }\n                            100% { background-position: 100px 0; }\n                        }}"
           ],
           "tagName": "style"
          },
          " "
         ],
         "tagName": "div"
        }
       ],
       "tagName": "div"
      },
      "text/html": [
       "<script>\n",
       "              (function () {\n",
       "                  var root = document.getElementById('5cc11608-e47d-4ce1-abc2-b36385222309');\n",
       "                  var text = root.getElementsByClassName('pb-text')[0];\n",
       "                  var fill = root.getElementsByClassName('pb-fill')[0];\n",
       "\n",
       "                  text.innerHTML = 'Build finished in 0:00:01.';\n",
       "                  \n",
       "            fill.style.width = '100%';\n",
       "            fill.style.animation = 'pb-fill-anim 2s linear infinite';\n",
       "            fill.style.backgroundSize = '100px 100%';\n",
       "            fill.style.backgroundImage = 'repeating-linear-gradient(' +\n",
       "                '90deg, #bdd2e6, #edf2f8 40%, #bdd2e6 80%, #bdd2e6)';\n",
       "        \n",
       "                  \n",
       "                fill.style.animation = 'none';\n",
       "                fill.style.backgroundImage = 'none';\n",
       "            \n",
       "              })();\n",
       "        </script>"
      ]
     },
     "metadata": {},
     "output_type": "display_data"
    },
    {
     "data": {
      "application/vdom.v1+json": {
       "attributes": {},
       "tagName": "div"
      },
      "text/html": [
       "\n",
       "                <script>\n",
       "                    if (Jupyter.version.split(\".\")[0] < 5) {\n",
       "                        var pb = document.getElementById(\"9e701a78-5912-408f-aebf-6a93168b6d89\");\n",
       "                        var text = document.createTextNode(\n",
       "                            \"HMTL progress bar requires Jupyter Notebook >= \" +\n",
       "                            \"5.0 or Jupyter Lab. Alternatively, you can use \" +\n",
       "                            \"TerminalProgressBar().\");\n",
       "                        pb.parentNode.insertBefore(text, pb);\n",
       "                    }\n",
       "                </script>\n",
       "                <div id=\"9e701a78-5912-408f-aebf-6a93168b6d89\" style=\"\n",
       "                    width: 100%;\n",
       "                    border: 1px solid #cfcfcf;\n",
       "                    border-radius: 4px;\n",
       "                    text-align: center;\n",
       "                    position: relative;\">\n",
       "                  <div class=\"pb-text\" style=\"\n",
       "                      position: absolute;\n",
       "                      width: 100%;\">\n",
       "                    0%\n",
       "                  </div>\n",
       "                  <div class=\"pb-fill\" style=\"\n",
       "                      background-color: #bdd2e6;\n",
       "                      width: 0%;\">\n",
       "                    <style type=\"text/css\" scoped=\"scoped\">\n",
       "                        @keyframes pb-fill-anim {\n",
       "                            0% { background-position: 0 0; }\n",
       "                            100% { background-position: 100px 0; }\n",
       "                        }\n",
       "                    </style>\n",
       "                    &nbsp;\n",
       "                  </div>\n",
       "                </div>"
      ],
      "text/plain": [
       "HtmlProgressBar cannot be displayed. Please use the TerminalProgressBar. It can be enabled with `nengo.rc.set('progress', 'progress_bar', 'nengo.utils.progress.TerminalProgressBar')`."
      ]
     },
     "metadata": {},
     "output_type": "display_data"
    },
    {
     "data": {
      "application/vdom.v1+json": {
       "attributes": {
        "id": "3f1188c9-e115-41e8-8718-cf75df5421a5",
        "style": {
         "border": "1px solid #cfcfcf",
         "borderRadius": "4px",
         "boxSizing": "border-box",
         "position": "relative",
         "textAlign": "center",
         "width": "100%"
        }
       },
       "children": [
        {
         "attributes": {
          "class": "pb-text",
          "style": {
           "position": "absolute",
           "width": "100%"
          }
         },
         "children": [
          "Simulation finished in 0:00:01."
         ],
         "tagName": "div"
        },
        {
         "attributes": {
          "class": "pb-fill",
          "style": {
           "animation": "none",
           "backgroundColor": "#bdd2e6",
           "backgroundImage": "none",
           "transition": "width 0.1s linear",
           "width": "100%"
          }
         },
         "children": [
          {
           "attributes": {
            "scoped": "scoped",
            "type": "text/css"
           },
           "children": [
            "\n                        @keyframes pb-fill-anim {\n                            0% { background-position: 0 0; }\n                            100% { background-position: 100px 0; }\n                        }}"
           ],
           "tagName": "style"
          },
          " "
         ],
         "tagName": "div"
        }
       ],
       "tagName": "div"
      },
      "text/html": [
       "<script>\n",
       "              (function () {\n",
       "                  var root = document.getElementById('9e701a78-5912-408f-aebf-6a93168b6d89');\n",
       "                  var text = root.getElementsByClassName('pb-text')[0];\n",
       "                  var fill = root.getElementsByClassName('pb-fill')[0];\n",
       "\n",
       "                  text.innerHTML = 'Simulation finished in 0:00:01.';\n",
       "                  \n",
       "            if (100.0 > 0.) {\n",
       "                fill.style.transition = 'width 0.1s linear';\n",
       "            } else {\n",
       "                fill.style.transition = 'none';\n",
       "            }\n",
       "\n",
       "            fill.style.width = '100.0%';\n",
       "            fill.style.animation = 'none';\n",
       "            fill.style.backgroundImage = 'none'\n",
       "        \n",
       "                  \n",
       "                fill.style.animation = 'none';\n",
       "                fill.style.backgroundImage = 'none';\n",
       "            \n",
       "              })();\n",
       "        </script>"
      ]
     },
     "metadata": {},
     "output_type": "display_data"
    },
    {
     "name": "stderr",
     "output_type": "stream",
     "text": [
      "/home/andreas/.local/lib/python3.7/site-packages/ipykernel_launcher.py:90: UserWarning: No contour levels were found within the data range.\n"
     ]
    },
    {
     "name": "stdout",
     "output_type": "stream",
     "text": [
      "(11, 11, 2)\n",
      "(300, 300, 2)\n"
     ]
    },
    {
     "data": {
      "image/png": "[encoded data removed]",
      "text/plain": [
       "<Figure size 468x180 with 1 Axes>"
      ]
     },
     "metadata": {
      "needs_background": "light"
     },
     "output_type": "display_data"
    },
    {
     "data": {
      "image/png": "[encoded data removed]",
      "text/plain": [
       "<Figure size 468x180 with 2 Axes>"
      ]
     },
     "metadata": {
      "needs_background": "light"
     },
     "output_type": "display_data"
    }
   ],
   "source": [
    "# Oscillator\n",
    "with nengo.Network() as model:\n",
    "    tau = 100e-3\n",
    "    omega = 2.0 * (2.0 * np.pi)\n",
    "\n",
    "    A = np.array([\n",
    "        [0.0, -omega],\n",
    "        [omega, 0.0]\n",
    "    ], dtype=float)\n",
    "\n",
    "    B = np.array([\n",
    "        [1.0],\n",
    "        [0.0],\n",
    "    ], dtype=float)\n",
    "\n",
    "    Ap = tau * A + np.eye(A.shape[0])\n",
    "    Bp = tau * B\n",
    "\n",
    "    nd_stim = nengo.Node(Piecewise({\n",
    "        0.0: 10.0,\n",
    "        0.1: 0.0,\n",
    "    }))\n",
    "    ens_x = nengo.Ensemble(\n",
    "        n_neurons=100, dimensions=A.shape[0]\n",
    "    )\n",
    "\n",
    "    con_f = nengo.Connection(ens_x, ens_x, transform=Ap, synapse=tau)\n",
    "    nengo.Connection(nd_stim, ens_x, transform=Bp, synapse=tau)\n",
    "\n",
    "    p_x = nengo.Probe(ens_x, synapse=10e-3)\n",
    "    p_u = nengo.Probe(nd_stim, synapse=10e-3)\n",
    "\n",
    "with nengo.Simulator(model) as sim:\n",
    "    sim.run(1.0)\n",
    "    ts = sim.trange()\n",
    "    us = sim.data[p_u]\n",
    "    xs = sim.data[p_x]\n",
    "    ens_data = sim.data[ens_x]\n",
    "    con_data = sim.data[con_f]\n",
    "    \n",
    "fig, ax = plt.subplots(figsize=(6.5, 2.5))\n",
    "plot_dynamics(ts, us, xs, ncol=3, range_=(-1.5, 1.25), ax=ax)\n",
    "ax.set_xlabel('Time $t$ (s)')\n",
    "ax.set_title('Neural Oscillator')\n",
    "\n",
    "\n",
    "fig.tight_layout()\n",
    "fig.savefig('../example_oscillator.pdf', bbox_inches='tight', transparent=True)\n",
    "\n",
    "\n",
    "# Phase portraits optimal and target\n",
    "fig, axs = plt.subplots(1, 2, figsize=(6.5, 2.5))\n",
    "f = get_feedback_dynamics_for_ens(ens_data, con_data, dim=2)\n",
    "def phi(x, u):\n",
    "    xs = np.concatenate((x[:, :, None], u[:, :, None]), axis=2)\n",
    "    res = (f(xs) - xs) / tau\n",
    "    return res[:, :, 0], res[:, :, 1]\n",
    "\n",
    "# Phase portraits optimal and target (for slides)\n",
    "plot_phase_portrait(lambda x, u: (-4.0 * np.pi * u, 4.0 * np.pi * x), ax=axs[0], symbolic_eqilibria=False)\n",
    "axs[0].set_title('Phase portrait (optimal)')\n",
    "\n",
    "plot_phase_portrait(phi, ax=axs[1], symbolic_eqilibria=False, th=1e-1)\n",
    "axs[1].set_title('Phase portrait (neural)')\n",
    "\n",
    "fig.tight_layout()\n",
    "fig.savefig('../example_oscillator_phases.pdf', bbox_inches='tight', transparent=True)\n"
   ]
  },
  {
   "cell_type": "code",
   "execution_count": 211,
   "metadata": {},
   "outputs": [
    {
     "data": {
      "application/vdom.v1+json": {
       "attributes": {},
       "tagName": "div"
      },
      "text/html": [
       "\n",
       "                <script>\n",
       "                    if (Jupyter.version.split(\".\")[0] < 5) {\n",
       "                        var pb = document.getElementById(\"1ec265b4-4c03-478a-860e-a014a62c95c9\");\n",
       "                        var text = document.createTextNode(\n",
       "                            \"HMTL progress bar requires Jupyter Notebook >= \" +\n",
       "                            \"5.0 or Jupyter Lab. Alternatively, you can use \" +\n",
       "                            \"TerminalProgressBar().\");\n",
       "                        pb.parentNode.insertBefore(text, pb);\n",
       "                    }\n",
       "                </script>\n",
       "                <div id=\"1ec265b4-4c03-478a-860e-a014a62c95c9\" style=\"\n",
       "                    width: 100%;\n",
       "                    border: 1px solid #cfcfcf;\n",
       "                    border-radius: 4px;\n",
       "                    text-align: center;\n",
       "                    position: relative;\">\n",
       "                  <div class=\"pb-text\" style=\"\n",
       "                      position: absolute;\n",
       "                      width: 100%;\">\n",
       "                    0%\n",
       "                  </div>\n",
       "                  <div class=\"pb-fill\" style=\"\n",
       "                      background-color: #bdd2e6;\n",
       "                      width: 0%;\">\n",
       "                    <style type=\"text/css\" scoped=\"scoped\">\n",
       "                        @keyframes pb-fill-anim {\n",
       "                            0% { background-position: 0 0; }\n",
       "                            100% { background-position: 100px 0; }\n",
       "                        }\n",
       "                    </style>\n",
       "                    &nbsp;\n",
       "                  </div>\n",
       "                </div>"
      ],
      "text/plain": [
       "HtmlProgressBar cannot be displayed. Please use the TerminalProgressBar. It can be enabled with `nengo.rc.set('progress', 'progress_bar', 'nengo.utils.progress.TerminalProgressBar')`."
      ]
     },
     "metadata": {},
     "output_type": "display_data"
    },
    {
     "data": {
      "application/vdom.v1+json": {
       "attributes": {
        "id": "b0173b77-667a-4deb-bdbd-6029d7a6e812",
        "style": {
         "border": "1px solid #cfcfcf",
         "borderRadius": "4px",
         "boxSizing": "border-box",
         "position": "relative",
         "textAlign": "center",
         "width": "100%"
        }
       },
       "children": [
        {
         "attributes": {
          "class": "pb-text",
          "style": {
           "position": "absolute",
           "width": "100%"
          }
         },
         "children": [
          "Build finished in 0:00:03."
         ],
         "tagName": "div"
        },
        {
         "attributes": {
          "class": "pb-fill",
          "style": {
           "animation": "none",
           "backgroundColor": "#bdd2e6",
           "backgroundImage": "none",
           "backgroundSize": "100px 100%",
           "width": "100%"
          }
         },
         "children": [
          {
           "attributes": {
            "scoped": "scoped",
            "type": "text/css"
           },
           "children": [
            "\n                        @keyframes pb-fill-anim {\n                            0% { background-position: 0 0; }\n                            100% { background-position: 100px 0; }\n                        }}"
           ],
           "tagName": "style"
          },
          " "
         ],
         "tagName": "div"
        }
       ],
       "tagName": "div"
      },
      "text/html": [
       "<script>\n",
       "              (function () {\n",
       "                  var root = document.getElementById('1ec265b4-4c03-478a-860e-a014a62c95c9');\n",
       "                  var text = root.getElementsByClassName('pb-text')[0];\n",
       "                  var fill = root.getElementsByClassName('pb-fill')[0];\n",
       "\n",
       "                  text.innerHTML = 'Build finished in 0:00:03.';\n",
       "                  \n",
       "            fill.style.width = '100%';\n",
       "            fill.style.animation = 'pb-fill-anim 2s linear infinite';\n",
       "            fill.style.backgroundSize = '100px 100%';\n",
       "            fill.style.backgroundImage = 'repeating-linear-gradient(' +\n",
       "                '90deg, #bdd2e6, #edf2f8 40%, #bdd2e6 80%, #bdd2e6)';\n",
       "        \n",
       "                  \n",
       "                fill.style.animation = 'none';\n",
       "                fill.style.backgroundImage = 'none';\n",
       "            \n",
       "              })();\n",
       "        </script>"
      ]
     },
     "metadata": {},
     "output_type": "display_data"
    },
    {
     "data": {
      "application/vdom.v1+json": {
       "attributes": {},
       "tagName": "div"
      },
      "text/html": [
       "\n",
       "                <script>\n",
       "                    if (Jupyter.version.split(\".\")[0] < 5) {\n",
       "                        var pb = document.getElementById(\"1ddf7a87-afdb-4d20-946e-524168a067e1\");\n",
       "                        var text = document.createTextNode(\n",
       "                            \"HMTL progress bar requires Jupyter Notebook >= \" +\n",
       "                            \"5.0 or Jupyter Lab. Alternatively, you can use \" +\n",
       "                            \"TerminalProgressBar().\");\n",
       "                        pb.parentNode.insertBefore(text, pb);\n",
       "                    }\n",
       "                </script>\n",
       "                <div id=\"1ddf7a87-afdb-4d20-946e-524168a067e1\" style=\"\n",
       "                    width: 100%;\n",
       "                    border: 1px solid #cfcfcf;\n",
       "                    border-radius: 4px;\n",
       "                    text-align: center;\n",
       "                    position: relative;\">\n",
       "                  <div class=\"pb-text\" style=\"\n",
       "                      position: absolute;\n",
       "                      width: 100%;\">\n",
       "                    0%\n",
       "                  </div>\n",
       "                  <div class=\"pb-fill\" style=\"\n",
       "                      background-color: #bdd2e6;\n",
       "                      width: 0%;\">\n",
       "                    <style type=\"text/css\" scoped=\"scoped\">\n",
       "                        @keyframes pb-fill-anim {\n",
       "                            0% { background-position: 0 0; }\n",
       "                            100% { background-position: 100px 0; }\n",
       "                        }\n",
       "                    </style>\n",
       "                    &nbsp;\n",
       "                  </div>\n",
       "                </div>"
      ],
      "text/plain": [
       "HtmlProgressBar cannot be displayed. Please use the TerminalProgressBar. It can be enabled with `nengo.rc.set('progress', 'progress_bar', 'nengo.utils.progress.TerminalProgressBar')`."
      ]
     },
     "metadata": {},
     "output_type": "display_data"
    },
    {
     "data": {
      "application/vdom.v1+json": {
       "attributes": {
        "id": "cb0e83a4-2bf6-4cb9-8c78-e59e76b52913",
        "style": {
         "border": "1px solid #cfcfcf",
         "borderRadius": "4px",
         "boxSizing": "border-box",
         "position": "relative",
         "textAlign": "center",
         "width": "100%"
        }
       },
       "children": [
        {
         "attributes": {
          "class": "pb-text",
          "style": {
           "position": "absolute",
           "width": "100%"
          }
         },
         "children": [
          "Simulation finished in 0:00:06."
         ],
         "tagName": "div"
        },
        {
         "attributes": {
          "class": "pb-fill",
          "style": {
           "animation": "none",
           "backgroundColor": "#bdd2e6",
           "backgroundImage": "none",
           "transition": "width 0.1s linear",
           "width": "100%"
          }
         },
         "children": [
          {
           "attributes": {
            "scoped": "scoped",
            "type": "text/css"
           },
           "children": [
            "\n                        @keyframes pb-fill-anim {\n                            0% { background-position: 0 0; }\n                            100% { background-position: 100px 0; }\n                        }}"
           ],
           "tagName": "style"
          },
          " "
         ],
         "tagName": "div"
        }
       ],
       "tagName": "div"
      },
      "text/html": [
       "<script>\n",
       "              (function () {\n",
       "                  var root = document.getElementById('1ddf7a87-afdb-4d20-946e-524168a067e1');\n",
       "                  var text = root.getElementsByClassName('pb-text')[0];\n",
       "                  var fill = root.getElementsByClassName('pb-fill')[0];\n",
       "\n",
       "                  text.innerHTML = 'Simulation finished in 0:00:06.';\n",
       "                  \n",
       "            if (100.0 > 0.) {\n",
       "                fill.style.transition = 'width 0.1s linear';\n",
       "            } else {\n",
       "                fill.style.transition = 'none';\n",
       "            }\n",
       "\n",
       "            fill.style.width = '100.0%';\n",
       "            fill.style.animation = 'none';\n",
       "            fill.style.backgroundImage = 'none'\n",
       "        \n",
       "                  \n",
       "                fill.style.animation = 'none';\n",
       "                fill.style.backgroundImage = 'none';\n",
       "            \n",
       "              })();\n",
       "        </script>"
      ]
     },
     "metadata": {},
     "output_type": "display_data"
    }
   ],
   "source": [
    "with nengo.Network() as model:\n",
    "    tau = 0.1\n",
    "    sigma = 10\n",
    "    beta = 8.0/3\n",
    "    rho = 28\n",
    "\n",
    "    def feedback(x):\n",
    "        dx0 = -sigma * x[0] + sigma * x[1]\n",
    "        dx1 = -x[0] * x[2] - x[1]\n",
    "        dx2 = x[0] * x[1] - beta * (x[2] + rho) - rho\n",
    "        return [dx0 * tau + x[0], \n",
    "                dx1 * tau + x[1], \n",
    "                dx2 * tau + x[2]]\n",
    "\n",
    "    with model:\n",
    "        lorenz = nengo.Ensemble(2000, dimensions=3, radius=60)\n",
    "\n",
    "        nengo.Connection(lorenz, lorenz, function=feedback, synapse=tau)\n",
    "\n",
    "        lorenz_p = nengo.Probe(lorenz, synapse=tau)\n",
    "\n",
    "    sim = nengo.Simulator(model)\n",
    "    sim.run(14)"
   ]
  },
  {
   "cell_type": "code",
   "execution_count": 212,
   "metadata": {},
   "outputs": [
    {
     "data": {
      "image/png": "[encoded data removed]",
      "text/plain": [
       "<Figure size 468x180 with 2 Axes>"
      ]
     },
     "metadata": {
      "needs_background": "light"
     },
     "output_type": "display_data"
    }
   ],
   "source": [
    "fig, axs = plt.subplots(1, 2, figsize=(6.5, 2.5))\n",
    "axs[0].plot(sim.trange(), sim.data[lorenz_p]);\n",
    "axs[0].set_xlabel('Time $t$ (s)')\n",
    "axs[0].set_ylabel('State')\n",
    "axs[0].set_title(\"State over time\")\n",
    "       \n",
    "axs[1].plot(sim.data[lorenz_p][:,0],sim.data[lorenz_p][:,1]);\n",
    "axs[1].set_xlabel('$x_0$')\n",
    "axs[1].set_ylabel('$x_1$')\n",
    "axs[1].set_title(\"2D slice of the state space\")\n",
    "\n",
    "fig.tight_layout()\n",
    "fig.savefig(\"../example_lorentz.pdf\", bbox_inches='tight', transparent=True)"
   ]
  },
  {
   "cell_type": "code",
   "execution_count": 213,
   "metadata": {},
   "outputs": [
    {
     "data": {
      "application/vdom.v1+json": {
       "attributes": {},
       "tagName": "div"
      },
      "text/html": [
       "\n",
       "                <script>\n",
       "                    if (Jupyter.version.split(\".\")[0] < 5) {\n",
       "                        var pb = document.getElementById(\"09f43951-0c2c-4d22-abea-1b46be87d891\");\n",
       "                        var text = document.createTextNode(\n",
       "                            \"HMTL progress bar requires Jupyter Notebook >= \" +\n",
       "                            \"5.0 or Jupyter Lab. Alternatively, you can use \" +\n",
       "                            \"TerminalProgressBar().\");\n",
       "                        pb.parentNode.insertBefore(text, pb);\n",
       "                    }\n",
       "                </script>\n",
       "                <div id=\"09f43951-0c2c-4d22-abea-1b46be87d891\" style=\"\n",
       "                    width: 100%;\n",
       "                    border: 1px solid #cfcfcf;\n",
       "                    border-radius: 4px;\n",
       "                    text-align: center;\n",
       "                    position: relative;\">\n",
       "                  <div class=\"pb-text\" style=\"\n",
       "                      position: absolute;\n",
       "                      width: 100%;\">\n",
       "                    0%\n",
       "                  </div>\n",
       "                  <div class=\"pb-fill\" style=\"\n",
       "                      background-color: #bdd2e6;\n",
       "                      width: 0%;\">\n",
       "                    <style type=\"text/css\" scoped=\"scoped\">\n",
       "                        @keyframes pb-fill-anim {\n",
       "                            0% { background-position: 0 0; }\n",
       "                            100% { background-position: 100px 0; }\n",
       "                        }\n",
       "                    </style>\n",
       "                    &nbsp;\n",
       "                  </div>\n",
       "                </div>"
      ],
      "text/plain": [
       "HtmlProgressBar cannot be displayed. Please use the TerminalProgressBar. It can be enabled with `nengo.rc.set('progress', 'progress_bar', 'nengo.utils.progress.TerminalProgressBar')`."
      ]
     },
     "metadata": {},
     "output_type": "display_data"
    },
    {
     "data": {
      "application/vdom.v1+json": {
       "attributes": {
        "id": "430cecbd-04bb-46c7-91b0-176914e2465c",
        "style": {
         "border": "1px solid #cfcfcf",
         "borderRadius": "4px",
         "boxSizing": "border-box",
         "position": "relative",
         "textAlign": "center",
         "width": "100%"
        }
       },
       "children": [
        {
         "attributes": {
          "class": "pb-text",
          "style": {
           "position": "absolute",
           "width": "100%"
          }
         },
         "children": [
          "Build finished in 0:00:01."
         ],
         "tagName": "div"
        },
        {
         "attributes": {
          "class": "pb-fill",
          "style": {
           "animation": "none",
           "backgroundColor": "#bdd2e6",
           "backgroundImage": "none",
           "backgroundSize": "100px 100%",
           "width": "100%"
          }
         },
         "children": [
          {
           "attributes": {
            "scoped": "scoped",
            "type": "text/css"
           },
           "children": [
            "\n                        @keyframes pb-fill-anim {\n                            0% { background-position: 0 0; }\n                            100% { background-position: 100px 0; }\n                        }}"
           ],
           "tagName": "style"
          },
          " "
         ],
         "tagName": "div"
        }
       ],
       "tagName": "div"
      },
      "text/html": [
       "<script>\n",
       "              (function () {\n",
       "                  var root = document.getElementById('09f43951-0c2c-4d22-abea-1b46be87d891');\n",
       "                  var text = root.getElementsByClassName('pb-text')[0];\n",
       "                  var fill = root.getElementsByClassName('pb-fill')[0];\n",
       "\n",
       "                  text.innerHTML = 'Build finished in 0:00:01.';\n",
       "                  \n",
       "            fill.style.width = '100%';\n",
       "            fill.style.animation = 'pb-fill-anim 2s linear infinite';\n",
       "            fill.style.backgroundSize = '100px 100%';\n",
       "            fill.style.backgroundImage = 'repeating-linear-gradient(' +\n",
       "                '90deg, #bdd2e6, #edf2f8 40%, #bdd2e6 80%, #bdd2e6)';\n",
       "        \n",
       "                  \n",
       "                fill.style.animation = 'none';\n",
       "                fill.style.backgroundImage = 'none';\n",
       "            \n",
       "              })();\n",
       "        </script>"
      ]
     },
     "metadata": {},
     "output_type": "display_data"
    },
    {
     "data": {
      "application/vdom.v1+json": {
       "attributes": {},
       "tagName": "div"
      },
      "text/html": [
       "\n",
       "                <script>\n",
       "                    if (Jupyter.version.split(\".\")[0] < 5) {\n",
       "                        var pb = document.getElementById(\"cb29fee0-4bf2-4f57-8afb-721aa9257a5b\");\n",
       "                        var text = document.createTextNode(\n",
       "                            \"HMTL progress bar requires Jupyter Notebook >= \" +\n",
       "                            \"5.0 or Jupyter Lab. Alternatively, you can use \" +\n",
       "                            \"TerminalProgressBar().\");\n",
       "                        pb.parentNode.insertBefore(text, pb);\n",
       "                    }\n",
       "                </script>\n",
       "                <div id=\"cb29fee0-4bf2-4f57-8afb-721aa9257a5b\" style=\"\n",
       "                    width: 100%;\n",
       "                    border: 1px solid #cfcfcf;\n",
       "                    border-radius: 4px;\n",
       "                    text-align: center;\n",
       "                    position: relative;\">\n",
       "                  <div class=\"pb-text\" style=\"\n",
       "                      position: absolute;\n",
       "                      width: 100%;\">\n",
       "                    0%\n",
       "                  </div>\n",
       "                  <div class=\"pb-fill\" style=\"\n",
       "                      background-color: #bdd2e6;\n",
       "                      width: 0%;\">\n",
       "                    <style type=\"text/css\" scoped=\"scoped\">\n",
       "                        @keyframes pb-fill-anim {\n",
       "                            0% { background-position: 0 0; }\n",
       "                            100% { background-position: 100px 0; }\n",
       "                        }\n",
       "                    </style>\n",
       "                    &nbsp;\n",
       "                  </div>\n",
       "                </div>"
      ],
      "text/plain": [
       "HtmlProgressBar cannot be displayed. Please use the TerminalProgressBar. It can be enabled with `nengo.rc.set('progress', 'progress_bar', 'nengo.utils.progress.TerminalProgressBar')`."
      ]
     },
     "metadata": {},
     "output_type": "display_data"
    },
    {
     "data": {
      "application/vdom.v1+json": {
       "attributes": {
        "id": "a123e4e5-ac1f-4895-8839-6d1c42195188",
        "style": {
         "border": "1px solid #cfcfcf",
         "borderRadius": "4px",
         "boxSizing": "border-box",
         "position": "relative",
         "textAlign": "center",
         "width": "100%"
        }
       },
       "children": [
        {
         "attributes": {
          "class": "pb-text",
          "style": {
           "position": "absolute",
           "width": "100%"
          }
         },
         "children": [
          "Simulation finished in 0:00:02."
         ],
         "tagName": "div"
        },
        {
         "attributes": {
          "class": "pb-fill",
          "style": {
           "animation": "none",
           "backgroundColor": "#bdd2e6",
           "backgroundImage": "none",
           "transition": "width 0.1s linear",
           "width": "100%"
          }
         },
         "children": [
          {
           "attributes": {
            "scoped": "scoped",
            "type": "text/css"
           },
           "children": [
            "\n                        @keyframes pb-fill-anim {\n                            0% { background-position: 0 0; }\n                            100% { background-position: 100px 0; }\n                        }}"
           ],
           "tagName": "style"
          },
          " "
         ],
         "tagName": "div"
        }
       ],
       "tagName": "div"
      },
      "text/html": [
       "<script>\n",
       "              (function () {\n",
       "                  var root = document.getElementById('cb29fee0-4bf2-4f57-8afb-721aa9257a5b');\n",
       "                  var text = root.getElementsByClassName('pb-text')[0];\n",
       "                  var fill = root.getElementsByClassName('pb-fill')[0];\n",
       "\n",
       "                  text.innerHTML = 'Simulation finished in 0:00:02.';\n",
       "                  \n",
       "            if (100.0 > 0.) {\n",
       "                fill.style.transition = 'width 0.1s linear';\n",
       "            } else {\n",
       "                fill.style.transition = 'none';\n",
       "            }\n",
       "\n",
       "            fill.style.width = '100.0%';\n",
       "            fill.style.animation = 'none';\n",
       "            fill.style.backgroundImage = 'none'\n",
       "        \n",
       "                  \n",
       "                fill.style.animation = 'none';\n",
       "                fill.style.backgroundImage = 'none';\n",
       "            \n",
       "              })();\n",
       "        </script>"
      ]
     },
     "metadata": {},
     "output_type": "display_data"
    }
   ],
   "source": [
    "with nengo.Network() as model:\n",
    "\n",
    "    tau = 0.02\n",
    "    r=4\n",
    "\n",
    "    def feedback(x):    \n",
    "        return [-tau*r*x[1]+x[0], tau*r*x[0]+x[1]]\n",
    "\n",
    "    def heart_shape(x):\n",
    "        theta = np.arctan2(x[1], x[0])\n",
    "        r = 2 - 2 * np.sin(theta) + np.sin(theta)*np.sqrt(np.abs(np.cos(theta)))/(np.sin(theta)+1.4)\n",
    "        return -r*np.cos(theta), r*np.sin(theta)\n",
    "\n",
    "    with model:\n",
    "        stim = nengo.Node(lambda t: [.5,.5] if t<.02 else [0,0])\n",
    "\n",
    "        heart_osc = nengo.Ensemble(1000, dimensions=2)\n",
    "        heart = nengo.Ensemble(100, dimensions=2, radius=4)\n",
    "\n",
    "        nengo.Connection(stim, heart_osc)\n",
    "        nengo.Connection(heart_osc, heart_osc, function=feedback, synapse=tau)\n",
    "        nengo.Connection(heart_osc, heart, function=heart_shape, synapse=tau)\n",
    "\n",
    "        heart_p = nengo.Probe(heart, synapse=tau)\n",
    "\n",
    "    sim = nengo.Simulator(model)\n",
    "    sim.run(4)"
   ]
  },
  {
   "cell_type": "code",
   "execution_count": 214,
   "metadata": {},
   "outputs": [
    {
     "data": {
      "image/png": "[encoded data removed]",
      "text/plain": [
       "<Figure size 468x180 with 2 Axes>"
      ]
     },
     "metadata": {
      "needs_background": "light"
     },
     "output_type": "display_data"
    }
   ],
   "source": [
    "fig, axs = plt.subplots(1, 2, figsize=(6.5, 2.5))\n",
    "axs[0].plot(sim.trange(), sim.data[heart_p]);\n",
    "axs[0].set_xlabel('Time $t$ (s)')\n",
    "axs[0].set_ylabel('State')\n",
    "axs[0].set_title(\"State over time\")\n",
    "       \n",
    "axs[1].plot(sim.data[heart_p][:,0],sim.data[heart_p][:,1]);\n",
    "axs[1].set_xlabel('$x_0$')\n",
    "axs[1].set_ylabel('$x_1$')\n",
    "axs[1].set_title(\"2D slice of the state space\")\n",
    "\n",
    "fig.tight_layout()\n",
    "fig.savefig(\"../example_heart.pdf\", bbox_inches='tight', transparent=True)"
   ]
  },
  {
   "cell_type": "code",
   "execution_count": 215,
   "metadata": {},
   "outputs": [
    {
     "data": {
      "application/vdom.v1+json": {
       "attributes": {},
       "tagName": "div"
      },
      "text/html": [
       "\n",
       "                <script>\n",
       "                    if (Jupyter.version.split(\".\")[0] < 5) {\n",
       "                        var pb = document.getElementById(\"161bfae2-3f63-4856-9531-d1d5f183b83d\");\n",
       "                        var text = document.createTextNode(\n",
       "                            \"HMTL progress bar requires Jupyter Notebook >= \" +\n",
       "                            \"5.0 or Jupyter Lab. Alternatively, you can use \" +\n",
       "                            \"TerminalProgressBar().\");\n",
       "                        pb.parentNode.insertBefore(text, pb);\n",
       "                    }\n",
       "                </script>\n",
       "                <div id=\"161bfae2-3f63-4856-9531-d1d5f183b83d\" style=\"\n",
       "                    width: 100%;\n",
       "                    border: 1px solid #cfcfcf;\n",
       "                    border-radius: 4px;\n",
       "                    text-align: center;\n",
       "                    position: relative;\">\n",
       "                  <div class=\"pb-text\" style=\"\n",
       "                      position: absolute;\n",
       "                      width: 100%;\">\n",
       "                    0%\n",
       "                  </div>\n",
       "                  <div class=\"pb-fill\" style=\"\n",
       "                      background-color: #bdd2e6;\n",
       "                      width: 0%;\">\n",
       "                    <style type=\"text/css\" scoped=\"scoped\">\n",
       "                        @keyframes pb-fill-anim {\n",
       "                            0% { background-position: 0 0; }\n",
       "                            100% { background-position: 100px 0; }\n",
       "                        }\n",
       "                    </style>\n",
       "                    &nbsp;\n",
       "                  </div>\n",
       "                </div>"
      ],
      "text/plain": [
       "HtmlProgressBar cannot be displayed. Please use the TerminalProgressBar. It can be enabled with `nengo.rc.set('progress', 'progress_bar', 'nengo.utils.progress.TerminalProgressBar')`."
      ]
     },
     "metadata": {},
     "output_type": "display_data"
    },
    {
     "data": {
      "application/vdom.v1+json": {
       "attributes": {
        "id": "4457d6a9-5c9f-48b0-b118-3dff9907966b",
        "style": {
         "border": "1px solid #cfcfcf",
         "borderRadius": "4px",
         "boxSizing": "border-box",
         "position": "relative",
         "textAlign": "center",
         "width": "100%"
        }
       },
       "children": [
        {
         "attributes": {
          "class": "pb-text",
          "style": {
           "position": "absolute",
           "width": "100%"
          }
         },
         "children": [
          "Build finished in 0:00:01."
         ],
         "tagName": "div"
        },
        {
         "attributes": {
          "class": "pb-fill",
          "style": {
           "animation": "none",
           "backgroundColor": "#bdd2e6",
           "backgroundImage": "none",
           "backgroundSize": "100px 100%",
           "width": "100%"
          }
         },
         "children": [
          {
           "attributes": {
            "scoped": "scoped",
            "type": "text/css"
           },
           "children": [
            "\n                        @keyframes pb-fill-anim {\n                            0% { background-position: 0 0; }\n                            100% { background-position: 100px 0; }\n                        }}"
           ],
           "tagName": "style"
          },
          " "
         ],
         "tagName": "div"
        }
       ],
       "tagName": "div"
      },
      "text/html": [
       "<script>\n",
       "              (function () {\n",
       "                  var root = document.getElementById('161bfae2-3f63-4856-9531-d1d5f183b83d');\n",
       "                  var text = root.getElementsByClassName('pb-text')[0];\n",
       "                  var fill = root.getElementsByClassName('pb-fill')[0];\n",
       "\n",
       "                  text.innerHTML = 'Build finished in 0:00:01.';\n",
       "                  \n",
       "            fill.style.width = '100%';\n",
       "            fill.style.animation = 'pb-fill-anim 2s linear infinite';\n",
       "            fill.style.backgroundSize = '100px 100%';\n",
       "            fill.style.backgroundImage = 'repeating-linear-gradient(' +\n",
       "                '90deg, #bdd2e6, #edf2f8 40%, #bdd2e6 80%, #bdd2e6)';\n",
       "        \n",
       "                  \n",
       "                fill.style.animation = 'none';\n",
       "                fill.style.backgroundImage = 'none';\n",
       "            \n",
       "              })();\n",
       "        </script>"
      ]
     },
     "metadata": {},
     "output_type": "display_data"
    },
    {
     "data": {
      "application/vdom.v1+json": {
       "attributes": {},
       "tagName": "div"
      },
      "text/html": [
       "\n",
       "                <script>\n",
       "                    if (Jupyter.version.split(\".\")[0] < 5) {\n",
       "                        var pb = document.getElementById(\"86d7eaaa-1f99-45f0-a794-a0b6e595e489\");\n",
       "                        var text = document.createTextNode(\n",
       "                            \"HMTL progress bar requires Jupyter Notebook >= \" +\n",
       "                            \"5.0 or Jupyter Lab. Alternatively, you can use \" +\n",
       "                            \"TerminalProgressBar().\");\n",
       "                        pb.parentNode.insertBefore(text, pb);\n",
       "                    }\n",
       "                </script>\n",
       "                <div id=\"86d7eaaa-1f99-45f0-a794-a0b6e595e489\" style=\"\n",
       "                    width: 100%;\n",
       "                    border: 1px solid #cfcfcf;\n",
       "                    border-radius: 4px;\n",
       "                    text-align: center;\n",
       "                    position: relative;\">\n",
       "                  <div class=\"pb-text\" style=\"\n",
       "                      position: absolute;\n",
       "                      width: 100%;\">\n",
       "                    0%\n",
       "                  </div>\n",
       "                  <div class=\"pb-fill\" style=\"\n",
       "                      background-color: #bdd2e6;\n",
       "                      width: 0%;\">\n",
       "                    <style type=\"text/css\" scoped=\"scoped\">\n",
       "                        @keyframes pb-fill-anim {\n",
       "                            0% { background-position: 0 0; }\n",
       "                            100% { background-position: 100px 0; }\n",
       "                        }\n",
       "                    </style>\n",
       "                    &nbsp;\n",
       "                  </div>\n",
       "                </div>"
      ],
      "text/plain": [
       "HtmlProgressBar cannot be displayed. Please use the TerminalProgressBar. It can be enabled with `nengo.rc.set('progress', 'progress_bar', 'nengo.utils.progress.TerminalProgressBar')`."
      ]
     },
     "metadata": {},
     "output_type": "display_data"
    },
    {
     "data": {
      "application/vdom.v1+json": {
       "attributes": {
        "id": "e79b179e-9788-4814-8b28-244b980c2263",
        "style": {
         "border": "1px solid #cfcfcf",
         "borderRadius": "4px",
         "boxSizing": "border-box",
         "position": "relative",
         "textAlign": "center",
         "width": "100%"
        }
       },
       "children": [
        {
         "attributes": {
          "class": "pb-text",
          "style": {
           "position": "absolute",
           "width": "100%"
          }
         },
         "children": [
          "Simulation finished in 0:00:03."
         ],
         "tagName": "div"
        },
        {
         "attributes": {
          "class": "pb-fill",
          "style": {
           "animation": "none",
           "backgroundColor": "#bdd2e6",
           "backgroundImage": "none",
           "transition": "width 0.1s linear",
           "width": "100%"
          }
         },
         "children": [
          {
           "attributes": {
            "scoped": "scoped",
            "type": "text/css"
           },
           "children": [
            "\n                        @keyframes pb-fill-anim {\n                            0% { background-position: 0 0; }\n                            100% { background-position: 100px 0; }\n                        }}"
           ],
           "tagName": "style"
          },
          " "
         ],
         "tagName": "div"
        }
       ],
       "tagName": "div"
      },
      "text/html": [
       "<script>\n",
       "              (function () {\n",
       "                  var root = document.getElementById('86d7eaaa-1f99-45f0-a794-a0b6e595e489');\n",
       "                  var text = root.getElementsByClassName('pb-text')[0];\n",
       "                  var fill = root.getElementsByClassName('pb-fill')[0];\n",
       "\n",
       "                  text.innerHTML = 'Simulation finished in 0:00:03.';\n",
       "                  \n",
       "            if (100.0 > 0.) {\n",
       "                fill.style.transition = 'width 0.1s linear';\n",
       "            } else {\n",
       "                fill.style.transition = 'none';\n",
       "            }\n",
       "\n",
       "            fill.style.width = '100.0%';\n",
       "            fill.style.animation = 'none';\n",
       "            fill.style.backgroundImage = 'none'\n",
       "        \n",
       "                  \n",
       "                fill.style.animation = 'none';\n",
       "                fill.style.backgroundImage = 'none';\n",
       "            \n",
       "              })();\n",
       "        </script>"
      ]
     },
     "metadata": {},
     "output_type": "display_data"
    }
   ],
   "source": [
    "with nengo.Network() as model:\n",
    "    tau = 0.1\n",
    "    tau_eye = 2.0\n",
    "\n",
    "    stim = nengo.Node(Piecewise({.3:1, .6:0 }))\n",
    "    velocity = nengo.Ensemble(100, dimensions=1)\n",
    "    position = nengo.Ensemble(200, dimensions=1)\n",
    "    \n",
    "    def feedback(x):\n",
    "        return (-tau/tau_eye + 1)*x\n",
    "    \n",
    "    conn = nengo.Connection(stim, velocity)\n",
    "    conn = nengo.Connection(velocity, position, transform=tau, synapse=tau)\n",
    "    conn = nengo.Connection(position, position, function=feedback, synapse=tau)\n",
    "\n",
    "    stim_p = nengo.Probe(stim)\n",
    "    position_p = nengo.Probe(position, synapse=.01)\n",
    "    velocity_p = nengo.Probe(velocity, synapse=.01)\n",
    "    \n",
    "sim = nengo.Simulator(model)\n",
    "sim.run(5)"
   ]
  },
  {
   "cell_type": "code",
   "execution_count": 209,
   "metadata": {},
   "outputs": [
    {
     "data": {
      "image/png": "[encoded data removed]",
      "text/plain": [
       "<Figure size 468x180 with 1 Axes>"
      ]
     },
     "metadata": {
      "needs_background": "light"
     },
     "output_type": "display_data"
    }
   ],
   "source": [
    "fig, ax = plt.subplots(figsize=(6.5, 2.5))\n",
    "ax.plot(sim.trange(), sim.data[stim_p], \"k--\", label = \"Stimulus\")\n",
    "ax.plot(sim.trange(), sim.data[position_p], label = \"Position\")\n",
    "ax.plot(sim.trange(), sim.data[velocity_p], label = \"Velocity\")\n",
    "ax.set_xlabel(\"Time $t$ (s)\")\n",
    "ax.legend(loc=\"best\");\n",
    "ax.set_title(\"Eye control dynamics\")\n",
    "\n",
    "fig.savefig(\"../example_eye_control.pdf\", bbox_inches='tight', transparent=True)"
   ]
  },
  {
   "cell_type": "code",
   "execution_count": null,
   "metadata": {},
   "outputs": [],
   "source": []
  }
 ],
 "metadata": {
  "kernelspec": {
   "display_name": "Python 3",
   "language": "python",
   "name": "python3"
  },
  "language_info": {
   "codemirror_mode": {
    "name": "ipython",
    "version": 3
   },
   "file_extension": ".py",
   "mimetype": "text/x-python",
   "name": "python",
   "nbconvert_exporter": "python",
   "pygments_lexer": "ipython3",
   "version": "3.7.6"
  }
 },
 "nbformat": 4,
 "nbformat_minor": 4
}
